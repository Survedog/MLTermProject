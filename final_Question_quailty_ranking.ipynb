{
  "nbformat": 4,
  "nbformat_minor": 0,
  "metadata": {
    "colab": {
      "provenance": [],
      "history_visible": true
    },
    "kernelspec": {
      "name": "python3",
      "display_name": "Python 3"
    },
    "language_info": {
      "name": "python"
    }
  },
  "cells": [
    {
      "cell_type": "markdown",
      "source": [
        "# Setup"
      ],
      "metadata": {
        "id": "BVvgPT5sBnR_"
      }
    },
    {
      "cell_type": "code",
      "source": [
        "# Get project folder\n",
        "!git clone https://github.com/Survedog/MLTermProject.git project"
      ],
      "metadata": {
        "colab": {
          "base_uri": "https://localhost:8080/"
        },
        "id": "GtV8-b7Z9Xgy",
        "outputId": "ddee6d34-5d4a-40ef-ccce-d05b8dd87dc8"
      },
      "execution_count": 21,
      "outputs": [
        {
          "output_type": "stream",
          "name": "stdout",
          "text": [
            "fatal: destination path 'project' already exists and is not an empty directory.\n"
          ]
        }
      ]
    },
    {
      "cell_type": "code",
      "execution_count": 22,
      "metadata": {
        "id": "qeO26wgo7cKl"
      },
      "outputs": [],
      "source": [
        "import pandas as pd\n",
        "import numpy as np\n",
        "pd.options.display.max_columns=100\n"
      ]
    },
    {
      "cell_type": "markdown",
      "source": [
        "# Load Data"
      ],
      "metadata": {
        "id": "y6ffvFTy_tDZ"
      }
    },
    {
      "cell_type": "code",
      "source": [
        "answer_correct_data = pd.read_csv('project/data/train_data/train_task_3_4.csv', na_values='?')\n",
        "answer_metadata = pd.read_csv('project/data/metadata/answer_metadata_task_3_4.csv', na_values='?')\n",
        "question_metadata = pd.read_csv('project/data/metadata/question_metadata_task_3_4.csv', na_values='?')\n",
        "student_metadata = pd.read_csv('project/data/metadata/student_metadata_task_3_4.csv', na_values='?')\n",
        "subject_metadata = pd.read_csv('project/data/metadata/subject_metadata.csv', na_values='?')"
      ],
      "metadata": {
        "id": "Dpsht8Lw_NJS"
      },
      "execution_count": 23,
      "outputs": []
    },
    {
      "cell_type": "code",
      "source": [
        "answer_correct_data.head()"
      ],
      "metadata": {
        "id": "3XrmFJvV_T31",
        "colab": {
          "base_uri": "https://localhost:8080/",
          "height": 206
        },
        "outputId": "0439b23f-02d2-4138-9644-59d8c33c27ce"
      },
      "execution_count": 24,
      "outputs": [
        {
          "output_type": "execute_result",
          "data": {
            "text/plain": [
              "   QuestionId  UserId  AnswerId  IsCorrect  CorrectAnswer  AnswerValue\n",
              "0         898    2111    280203          1              2            2\n",
              "1         767    3062     55638          1              3            3\n",
              "2         165    1156    386475          1              2            2\n",
              "3         490    1653    997498          1              4            4\n",
              "4         298    3912    578636          1              3            3"
            ],
            "text/html": [
              "\n",
              "  <div id=\"df-e2a26129-43cd-464d-9a0e-58e09946d1a7\">\n",
              "    <div class=\"colab-df-container\">\n",
              "      <div>\n",
              "<style scoped>\n",
              "    .dataframe tbody tr th:only-of-type {\n",
              "        vertical-align: middle;\n",
              "    }\n",
              "\n",
              "    .dataframe tbody tr th {\n",
              "        vertical-align: top;\n",
              "    }\n",
              "\n",
              "    .dataframe thead th {\n",
              "        text-align: right;\n",
              "    }\n",
              "</style>\n",
              "<table border=\"1\" class=\"dataframe\">\n",
              "  <thead>\n",
              "    <tr style=\"text-align: right;\">\n",
              "      <th></th>\n",
              "      <th>QuestionId</th>\n",
              "      <th>UserId</th>\n",
              "      <th>AnswerId</th>\n",
              "      <th>IsCorrect</th>\n",
              "      <th>CorrectAnswer</th>\n",
              "      <th>AnswerValue</th>\n",
              "    </tr>\n",
              "  </thead>\n",
              "  <tbody>\n",
              "    <tr>\n",
              "      <th>0</th>\n",
              "      <td>898</td>\n",
              "      <td>2111</td>\n",
              "      <td>280203</td>\n",
              "      <td>1</td>\n",
              "      <td>2</td>\n",
              "      <td>2</td>\n",
              "    </tr>\n",
              "    <tr>\n",
              "      <th>1</th>\n",
              "      <td>767</td>\n",
              "      <td>3062</td>\n",
              "      <td>55638</td>\n",
              "      <td>1</td>\n",
              "      <td>3</td>\n",
              "      <td>3</td>\n",
              "    </tr>\n",
              "    <tr>\n",
              "      <th>2</th>\n",
              "      <td>165</td>\n",
              "      <td>1156</td>\n",
              "      <td>386475</td>\n",
              "      <td>1</td>\n",
              "      <td>2</td>\n",
              "      <td>2</td>\n",
              "    </tr>\n",
              "    <tr>\n",
              "      <th>3</th>\n",
              "      <td>490</td>\n",
              "      <td>1653</td>\n",
              "      <td>997498</td>\n",
              "      <td>1</td>\n",
              "      <td>4</td>\n",
              "      <td>4</td>\n",
              "    </tr>\n",
              "    <tr>\n",
              "      <th>4</th>\n",
              "      <td>298</td>\n",
              "      <td>3912</td>\n",
              "      <td>578636</td>\n",
              "      <td>1</td>\n",
              "      <td>3</td>\n",
              "      <td>3</td>\n",
              "    </tr>\n",
              "  </tbody>\n",
              "</table>\n",
              "</div>\n",
              "      <button class=\"colab-df-convert\" onclick=\"convertToInteractive('df-e2a26129-43cd-464d-9a0e-58e09946d1a7')\"\n",
              "              title=\"Convert this dataframe to an interactive table.\"\n",
              "              style=\"display:none;\">\n",
              "        \n",
              "  <svg xmlns=\"http://www.w3.org/2000/svg\" height=\"24px\"viewBox=\"0 0 24 24\"\n",
              "       width=\"24px\">\n",
              "    <path d=\"M0 0h24v24H0V0z\" fill=\"none\"/>\n",
              "    <path d=\"M18.56 5.44l.94 2.06.94-2.06 2.06-.94-2.06-.94-.94-2.06-.94 2.06-2.06.94zm-11 1L8.5 8.5l.94-2.06 2.06-.94-2.06-.94L8.5 2.5l-.94 2.06-2.06.94zm10 10l.94 2.06.94-2.06 2.06-.94-2.06-.94-.94-2.06-.94 2.06-2.06.94z\"/><path d=\"M17.41 7.96l-1.37-1.37c-.4-.4-.92-.59-1.43-.59-.52 0-1.04.2-1.43.59L10.3 9.45l-7.72 7.72c-.78.78-.78 2.05 0 2.83L4 21.41c.39.39.9.59 1.41.59.51 0 1.02-.2 1.41-.59l7.78-7.78 2.81-2.81c.8-.78.8-2.07 0-2.86zM5.41 20L4 18.59l7.72-7.72 1.47 1.35L5.41 20z\"/>\n",
              "  </svg>\n",
              "      </button>\n",
              "      \n",
              "  <style>\n",
              "    .colab-df-container {\n",
              "      display:flex;\n",
              "      flex-wrap:wrap;\n",
              "      gap: 12px;\n",
              "    }\n",
              "\n",
              "    .colab-df-convert {\n",
              "      background-color: #E8F0FE;\n",
              "      border: none;\n",
              "      border-radius: 50%;\n",
              "      cursor: pointer;\n",
              "      display: none;\n",
              "      fill: #1967D2;\n",
              "      height: 32px;\n",
              "      padding: 0 0 0 0;\n",
              "      width: 32px;\n",
              "    }\n",
              "\n",
              "    .colab-df-convert:hover {\n",
              "      background-color: #E2EBFA;\n",
              "      box-shadow: 0px 1px 2px rgba(60, 64, 67, 0.3), 0px 1px 3px 1px rgba(60, 64, 67, 0.15);\n",
              "      fill: #174EA6;\n",
              "    }\n",
              "\n",
              "    [theme=dark] .colab-df-convert {\n",
              "      background-color: #3B4455;\n",
              "      fill: #D2E3FC;\n",
              "    }\n",
              "\n",
              "    [theme=dark] .colab-df-convert:hover {\n",
              "      background-color: #434B5C;\n",
              "      box-shadow: 0px 1px 3px 1px rgba(0, 0, 0, 0.15);\n",
              "      filter: drop-shadow(0px 1px 2px rgba(0, 0, 0, 0.3));\n",
              "      fill: #FFFFFF;\n",
              "    }\n",
              "  </style>\n",
              "\n",
              "      <script>\n",
              "        const buttonEl =\n",
              "          document.querySelector('#df-e2a26129-43cd-464d-9a0e-58e09946d1a7 button.colab-df-convert');\n",
              "        buttonEl.style.display =\n",
              "          google.colab.kernel.accessAllowed ? 'block' : 'none';\n",
              "\n",
              "        async function convertToInteractive(key) {\n",
              "          const element = document.querySelector('#df-e2a26129-43cd-464d-9a0e-58e09946d1a7');\n",
              "          const dataTable =\n",
              "            await google.colab.kernel.invokeFunction('convertToInteractive',\n",
              "                                                     [key], {});\n",
              "          if (!dataTable) return;\n",
              "\n",
              "          const docLinkHtml = 'Like what you see? Visit the ' +\n",
              "            '<a target=\"_blank\" href=https://colab.research.google.com/notebooks/data_table.ipynb>data table notebook</a>'\n",
              "            + ' to learn more about interactive tables.';\n",
              "          element.innerHTML = '';\n",
              "          dataTable['output_type'] = 'display_data';\n",
              "          await google.colab.output.renderOutput(dataTable, element);\n",
              "          const docLink = document.createElement('div');\n",
              "          docLink.innerHTML = docLinkHtml;\n",
              "          element.appendChild(docLink);\n",
              "        }\n",
              "      </script>\n",
              "    </div>\n",
              "  </div>\n",
              "  "
            ]
          },
          "metadata": {},
          "execution_count": 24
        }
      ]
    },
    {
      "cell_type": "code",
      "source": [
        "answer_metadata.head()"
      ],
      "metadata": {
        "id": "YthYnsA2_T9o",
        "colab": {
          "base_uri": "https://localhost:8080/",
          "height": 206
        },
        "outputId": "ae2f4378-83fa-498f-d820-00d0edf11110"
      },
      "execution_count": 25,
      "outputs": [
        {
          "output_type": "execute_result",
          "data": {
            "text/plain": [
              "   AnswerId             DateAnswered  Confidence  GroupId  QuizId  \\\n",
              "0   1451945  2019-10-30 14:34:00.000         NaN        4      32   \n",
              "1     45325  2020-01-06 18:53:00.000        75.0      185      66   \n",
              "2    687013  2020-01-18 10:52:00.000         NaN      235      64   \n",
              "3     91254  2020-02-29 17:25:00.000         NaN      194      97   \n",
              "4   1225855  2020-03-06 15:07:00.000         NaN       95     115   \n",
              "\n",
              "   SchemeOfWorkId  \n",
              "0         52562.0  \n",
              "1         52562.0  \n",
              "2         52562.0  \n",
              "3         52562.0  \n",
              "4         52562.0  "
            ],
            "text/html": [
              "\n",
              "  <div id=\"df-077c788c-d201-4fb5-8813-4c2520fc5120\">\n",
              "    <div class=\"colab-df-container\">\n",
              "      <div>\n",
              "<style scoped>\n",
              "    .dataframe tbody tr th:only-of-type {\n",
              "        vertical-align: middle;\n",
              "    }\n",
              "\n",
              "    .dataframe tbody tr th {\n",
              "        vertical-align: top;\n",
              "    }\n",
              "\n",
              "    .dataframe thead th {\n",
              "        text-align: right;\n",
              "    }\n",
              "</style>\n",
              "<table border=\"1\" class=\"dataframe\">\n",
              "  <thead>\n",
              "    <tr style=\"text-align: right;\">\n",
              "      <th></th>\n",
              "      <th>AnswerId</th>\n",
              "      <th>DateAnswered</th>\n",
              "      <th>Confidence</th>\n",
              "      <th>GroupId</th>\n",
              "      <th>QuizId</th>\n",
              "      <th>SchemeOfWorkId</th>\n",
              "    </tr>\n",
              "  </thead>\n",
              "  <tbody>\n",
              "    <tr>\n",
              "      <th>0</th>\n",
              "      <td>1451945</td>\n",
              "      <td>2019-10-30 14:34:00.000</td>\n",
              "      <td>NaN</td>\n",
              "      <td>4</td>\n",
              "      <td>32</td>\n",
              "      <td>52562.0</td>\n",
              "    </tr>\n",
              "    <tr>\n",
              "      <th>1</th>\n",
              "      <td>45325</td>\n",
              "      <td>2020-01-06 18:53:00.000</td>\n",
              "      <td>75.0</td>\n",
              "      <td>185</td>\n",
              "      <td>66</td>\n",
              "      <td>52562.0</td>\n",
              "    </tr>\n",
              "    <tr>\n",
              "      <th>2</th>\n",
              "      <td>687013</td>\n",
              "      <td>2020-01-18 10:52:00.000</td>\n",
              "      <td>NaN</td>\n",
              "      <td>235</td>\n",
              "      <td>64</td>\n",
              "      <td>52562.0</td>\n",
              "    </tr>\n",
              "    <tr>\n",
              "      <th>3</th>\n",
              "      <td>91254</td>\n",
              "      <td>2020-02-29 17:25:00.000</td>\n",
              "      <td>NaN</td>\n",
              "      <td>194</td>\n",
              "      <td>97</td>\n",
              "      <td>52562.0</td>\n",
              "    </tr>\n",
              "    <tr>\n",
              "      <th>4</th>\n",
              "      <td>1225855</td>\n",
              "      <td>2020-03-06 15:07:00.000</td>\n",
              "      <td>NaN</td>\n",
              "      <td>95</td>\n",
              "      <td>115</td>\n",
              "      <td>52562.0</td>\n",
              "    </tr>\n",
              "  </tbody>\n",
              "</table>\n",
              "</div>\n",
              "      <button class=\"colab-df-convert\" onclick=\"convertToInteractive('df-077c788c-d201-4fb5-8813-4c2520fc5120')\"\n",
              "              title=\"Convert this dataframe to an interactive table.\"\n",
              "              style=\"display:none;\">\n",
              "        \n",
              "  <svg xmlns=\"http://www.w3.org/2000/svg\" height=\"24px\"viewBox=\"0 0 24 24\"\n",
              "       width=\"24px\">\n",
              "    <path d=\"M0 0h24v24H0V0z\" fill=\"none\"/>\n",
              "    <path d=\"M18.56 5.44l.94 2.06.94-2.06 2.06-.94-2.06-.94-.94-2.06-.94 2.06-2.06.94zm-11 1L8.5 8.5l.94-2.06 2.06-.94-2.06-.94L8.5 2.5l-.94 2.06-2.06.94zm10 10l.94 2.06.94-2.06 2.06-.94-2.06-.94-.94-2.06-.94 2.06-2.06.94z\"/><path d=\"M17.41 7.96l-1.37-1.37c-.4-.4-.92-.59-1.43-.59-.52 0-1.04.2-1.43.59L10.3 9.45l-7.72 7.72c-.78.78-.78 2.05 0 2.83L4 21.41c.39.39.9.59 1.41.59.51 0 1.02-.2 1.41-.59l7.78-7.78 2.81-2.81c.8-.78.8-2.07 0-2.86zM5.41 20L4 18.59l7.72-7.72 1.47 1.35L5.41 20z\"/>\n",
              "  </svg>\n",
              "      </button>\n",
              "      \n",
              "  <style>\n",
              "    .colab-df-container {\n",
              "      display:flex;\n",
              "      flex-wrap:wrap;\n",
              "      gap: 12px;\n",
              "    }\n",
              "\n",
              "    .colab-df-convert {\n",
              "      background-color: #E8F0FE;\n",
              "      border: none;\n",
              "      border-radius: 50%;\n",
              "      cursor: pointer;\n",
              "      display: none;\n",
              "      fill: #1967D2;\n",
              "      height: 32px;\n",
              "      padding: 0 0 0 0;\n",
              "      width: 32px;\n",
              "    }\n",
              "\n",
              "    .colab-df-convert:hover {\n",
              "      background-color: #E2EBFA;\n",
              "      box-shadow: 0px 1px 2px rgba(60, 64, 67, 0.3), 0px 1px 3px 1px rgba(60, 64, 67, 0.15);\n",
              "      fill: #174EA6;\n",
              "    }\n",
              "\n",
              "    [theme=dark] .colab-df-convert {\n",
              "      background-color: #3B4455;\n",
              "      fill: #D2E3FC;\n",
              "    }\n",
              "\n",
              "    [theme=dark] .colab-df-convert:hover {\n",
              "      background-color: #434B5C;\n",
              "      box-shadow: 0px 1px 3px 1px rgba(0, 0, 0, 0.15);\n",
              "      filter: drop-shadow(0px 1px 2px rgba(0, 0, 0, 0.3));\n",
              "      fill: #FFFFFF;\n",
              "    }\n",
              "  </style>\n",
              "\n",
              "      <script>\n",
              "        const buttonEl =\n",
              "          document.querySelector('#df-077c788c-d201-4fb5-8813-4c2520fc5120 button.colab-df-convert');\n",
              "        buttonEl.style.display =\n",
              "          google.colab.kernel.accessAllowed ? 'block' : 'none';\n",
              "\n",
              "        async function convertToInteractive(key) {\n",
              "          const element = document.querySelector('#df-077c788c-d201-4fb5-8813-4c2520fc5120');\n",
              "          const dataTable =\n",
              "            await google.colab.kernel.invokeFunction('convertToInteractive',\n",
              "                                                     [key], {});\n",
              "          if (!dataTable) return;\n",
              "\n",
              "          const docLinkHtml = 'Like what you see? Visit the ' +\n",
              "            '<a target=\"_blank\" href=https://colab.research.google.com/notebooks/data_table.ipynb>data table notebook</a>'\n",
              "            + ' to learn more about interactive tables.';\n",
              "          element.innerHTML = '';\n",
              "          dataTable['output_type'] = 'display_data';\n",
              "          await google.colab.output.renderOutput(dataTable, element);\n",
              "          const docLink = document.createElement('div');\n",
              "          docLink.innerHTML = docLinkHtml;\n",
              "          element.appendChild(docLink);\n",
              "        }\n",
              "      </script>\n",
              "    </div>\n",
              "  </div>\n",
              "  "
            ]
          },
          "metadata": {},
          "execution_count": 25
        }
      ]
    },
    {
      "cell_type": "code",
      "source": [
        "question_metadata.head()"
      ],
      "metadata": {
        "id": "_lcbnK0d_UCI",
        "colab": {
          "base_uri": "https://localhost:8080/",
          "height": 206
        },
        "outputId": "2270c4b5-66cd-4529-969d-bd8fc88c5a9b"
      },
      "execution_count": 26,
      "outputs": [
        {
          "output_type": "execute_result",
          "data": {
            "text/plain": [
              "   QuestionId         SubjectId\n",
              "0         684  [3, 71, 98, 209]\n",
              "1          87  [3, 71, 98, 209]\n",
              "2         679  [3, 71, 98, 209]\n",
              "3         685  [3, 71, 98, 209]\n",
              "4         222  [3, 71, 98, 209]"
            ],
            "text/html": [
              "\n",
              "  <div id=\"df-d2ab65a3-b995-469d-838c-9e710858dc13\">\n",
              "    <div class=\"colab-df-container\">\n",
              "      <div>\n",
              "<style scoped>\n",
              "    .dataframe tbody tr th:only-of-type {\n",
              "        vertical-align: middle;\n",
              "    }\n",
              "\n",
              "    .dataframe tbody tr th {\n",
              "        vertical-align: top;\n",
              "    }\n",
              "\n",
              "    .dataframe thead th {\n",
              "        text-align: right;\n",
              "    }\n",
              "</style>\n",
              "<table border=\"1\" class=\"dataframe\">\n",
              "  <thead>\n",
              "    <tr style=\"text-align: right;\">\n",
              "      <th></th>\n",
              "      <th>QuestionId</th>\n",
              "      <th>SubjectId</th>\n",
              "    </tr>\n",
              "  </thead>\n",
              "  <tbody>\n",
              "    <tr>\n",
              "      <th>0</th>\n",
              "      <td>684</td>\n",
              "      <td>[3, 71, 98, 209]</td>\n",
              "    </tr>\n",
              "    <tr>\n",
              "      <th>1</th>\n",
              "      <td>87</td>\n",
              "      <td>[3, 71, 98, 209]</td>\n",
              "    </tr>\n",
              "    <tr>\n",
              "      <th>2</th>\n",
              "      <td>679</td>\n",
              "      <td>[3, 71, 98, 209]</td>\n",
              "    </tr>\n",
              "    <tr>\n",
              "      <th>3</th>\n",
              "      <td>685</td>\n",
              "      <td>[3, 71, 98, 209]</td>\n",
              "    </tr>\n",
              "    <tr>\n",
              "      <th>4</th>\n",
              "      <td>222</td>\n",
              "      <td>[3, 71, 98, 209]</td>\n",
              "    </tr>\n",
              "  </tbody>\n",
              "</table>\n",
              "</div>\n",
              "      <button class=\"colab-df-convert\" onclick=\"convertToInteractive('df-d2ab65a3-b995-469d-838c-9e710858dc13')\"\n",
              "              title=\"Convert this dataframe to an interactive table.\"\n",
              "              style=\"display:none;\">\n",
              "        \n",
              "  <svg xmlns=\"http://www.w3.org/2000/svg\" height=\"24px\"viewBox=\"0 0 24 24\"\n",
              "       width=\"24px\">\n",
              "    <path d=\"M0 0h24v24H0V0z\" fill=\"none\"/>\n",
              "    <path d=\"M18.56 5.44l.94 2.06.94-2.06 2.06-.94-2.06-.94-.94-2.06-.94 2.06-2.06.94zm-11 1L8.5 8.5l.94-2.06 2.06-.94-2.06-.94L8.5 2.5l-.94 2.06-2.06.94zm10 10l.94 2.06.94-2.06 2.06-.94-2.06-.94-.94-2.06-.94 2.06-2.06.94z\"/><path d=\"M17.41 7.96l-1.37-1.37c-.4-.4-.92-.59-1.43-.59-.52 0-1.04.2-1.43.59L10.3 9.45l-7.72 7.72c-.78.78-.78 2.05 0 2.83L4 21.41c.39.39.9.59 1.41.59.51 0 1.02-.2 1.41-.59l7.78-7.78 2.81-2.81c.8-.78.8-2.07 0-2.86zM5.41 20L4 18.59l7.72-7.72 1.47 1.35L5.41 20z\"/>\n",
              "  </svg>\n",
              "      </button>\n",
              "      \n",
              "  <style>\n",
              "    .colab-df-container {\n",
              "      display:flex;\n",
              "      flex-wrap:wrap;\n",
              "      gap: 12px;\n",
              "    }\n",
              "\n",
              "    .colab-df-convert {\n",
              "      background-color: #E8F0FE;\n",
              "      border: none;\n",
              "      border-radius: 50%;\n",
              "      cursor: pointer;\n",
              "      display: none;\n",
              "      fill: #1967D2;\n",
              "      height: 32px;\n",
              "      padding: 0 0 0 0;\n",
              "      width: 32px;\n",
              "    }\n",
              "\n",
              "    .colab-df-convert:hover {\n",
              "      background-color: #E2EBFA;\n",
              "      box-shadow: 0px 1px 2px rgba(60, 64, 67, 0.3), 0px 1px 3px 1px rgba(60, 64, 67, 0.15);\n",
              "      fill: #174EA6;\n",
              "    }\n",
              "\n",
              "    [theme=dark] .colab-df-convert {\n",
              "      background-color: #3B4455;\n",
              "      fill: #D2E3FC;\n",
              "    }\n",
              "\n",
              "    [theme=dark] .colab-df-convert:hover {\n",
              "      background-color: #434B5C;\n",
              "      box-shadow: 0px 1px 3px 1px rgba(0, 0, 0, 0.15);\n",
              "      filter: drop-shadow(0px 1px 2px rgba(0, 0, 0, 0.3));\n",
              "      fill: #FFFFFF;\n",
              "    }\n",
              "  </style>\n",
              "\n",
              "      <script>\n",
              "        const buttonEl =\n",
              "          document.querySelector('#df-d2ab65a3-b995-469d-838c-9e710858dc13 button.colab-df-convert');\n",
              "        buttonEl.style.display =\n",
              "          google.colab.kernel.accessAllowed ? 'block' : 'none';\n",
              "\n",
              "        async function convertToInteractive(key) {\n",
              "          const element = document.querySelector('#df-d2ab65a3-b995-469d-838c-9e710858dc13');\n",
              "          const dataTable =\n",
              "            await google.colab.kernel.invokeFunction('convertToInteractive',\n",
              "                                                     [key], {});\n",
              "          if (!dataTable) return;\n",
              "\n",
              "          const docLinkHtml = 'Like what you see? Visit the ' +\n",
              "            '<a target=\"_blank\" href=https://colab.research.google.com/notebooks/data_table.ipynb>data table notebook</a>'\n",
              "            + ' to learn more about interactive tables.';\n",
              "          element.innerHTML = '';\n",
              "          dataTable['output_type'] = 'display_data';\n",
              "          await google.colab.output.renderOutput(dataTable, element);\n",
              "          const docLink = document.createElement('div');\n",
              "          docLink.innerHTML = docLinkHtml;\n",
              "          element.appendChild(docLink);\n",
              "        }\n",
              "      </script>\n",
              "    </div>\n",
              "  </div>\n",
              "  "
            ]
          },
          "metadata": {},
          "execution_count": 26
        }
      ]
    },
    {
      "cell_type": "code",
      "source": [
        "student_metadata.head()"
      ],
      "metadata": {
        "id": "-0j5eg_V_UFn",
        "colab": {
          "base_uri": "https://localhost:8080/",
          "height": 206
        },
        "outputId": "c9d1a73b-a2b4-49f8-e6ab-36da4661d7bf"
      },
      "execution_count": 27,
      "outputs": [
        {
          "output_type": "execute_result",
          "data": {
            "text/plain": [
              "   UserId  Gender              DateOfBirth  PremiumPupil\n",
              "0    3837       2  2007-10-01 00:00:00.000           0.0\n",
              "1     207       0                      NaN           NaN\n",
              "2    3581       2  2008-03-01 00:00:00.000           0.0\n",
              "3    6028       2  2008-01-01 00:00:00.000           0.0\n",
              "4    1451       0                      NaN           NaN"
            ],
            "text/html": [
              "\n",
              "  <div id=\"df-e512e342-a1ca-4c56-bb41-80ffab0fb1a3\">\n",
              "    <div class=\"colab-df-container\">\n",
              "      <div>\n",
              "<style scoped>\n",
              "    .dataframe tbody tr th:only-of-type {\n",
              "        vertical-align: middle;\n",
              "    }\n",
              "\n",
              "    .dataframe tbody tr th {\n",
              "        vertical-align: top;\n",
              "    }\n",
              "\n",
              "    .dataframe thead th {\n",
              "        text-align: right;\n",
              "    }\n",
              "</style>\n",
              "<table border=\"1\" class=\"dataframe\">\n",
              "  <thead>\n",
              "    <tr style=\"text-align: right;\">\n",
              "      <th></th>\n",
              "      <th>UserId</th>\n",
              "      <th>Gender</th>\n",
              "      <th>DateOfBirth</th>\n",
              "      <th>PremiumPupil</th>\n",
              "    </tr>\n",
              "  </thead>\n",
              "  <tbody>\n",
              "    <tr>\n",
              "      <th>0</th>\n",
              "      <td>3837</td>\n",
              "      <td>2</td>\n",
              "      <td>2007-10-01 00:00:00.000</td>\n",
              "      <td>0.0</td>\n",
              "    </tr>\n",
              "    <tr>\n",
              "      <th>1</th>\n",
              "      <td>207</td>\n",
              "      <td>0</td>\n",
              "      <td>NaN</td>\n",
              "      <td>NaN</td>\n",
              "    </tr>\n",
              "    <tr>\n",
              "      <th>2</th>\n",
              "      <td>3581</td>\n",
              "      <td>2</td>\n",
              "      <td>2008-03-01 00:00:00.000</td>\n",
              "      <td>0.0</td>\n",
              "    </tr>\n",
              "    <tr>\n",
              "      <th>3</th>\n",
              "      <td>6028</td>\n",
              "      <td>2</td>\n",
              "      <td>2008-01-01 00:00:00.000</td>\n",
              "      <td>0.0</td>\n",
              "    </tr>\n",
              "    <tr>\n",
              "      <th>4</th>\n",
              "      <td>1451</td>\n",
              "      <td>0</td>\n",
              "      <td>NaN</td>\n",
              "      <td>NaN</td>\n",
              "    </tr>\n",
              "  </tbody>\n",
              "</table>\n",
              "</div>\n",
              "      <button class=\"colab-df-convert\" onclick=\"convertToInteractive('df-e512e342-a1ca-4c56-bb41-80ffab0fb1a3')\"\n",
              "              title=\"Convert this dataframe to an interactive table.\"\n",
              "              style=\"display:none;\">\n",
              "        \n",
              "  <svg xmlns=\"http://www.w3.org/2000/svg\" height=\"24px\"viewBox=\"0 0 24 24\"\n",
              "       width=\"24px\">\n",
              "    <path d=\"M0 0h24v24H0V0z\" fill=\"none\"/>\n",
              "    <path d=\"M18.56 5.44l.94 2.06.94-2.06 2.06-.94-2.06-.94-.94-2.06-.94 2.06-2.06.94zm-11 1L8.5 8.5l.94-2.06 2.06-.94-2.06-.94L8.5 2.5l-.94 2.06-2.06.94zm10 10l.94 2.06.94-2.06 2.06-.94-2.06-.94-.94-2.06-.94 2.06-2.06.94z\"/><path d=\"M17.41 7.96l-1.37-1.37c-.4-.4-.92-.59-1.43-.59-.52 0-1.04.2-1.43.59L10.3 9.45l-7.72 7.72c-.78.78-.78 2.05 0 2.83L4 21.41c.39.39.9.59 1.41.59.51 0 1.02-.2 1.41-.59l7.78-7.78 2.81-2.81c.8-.78.8-2.07 0-2.86zM5.41 20L4 18.59l7.72-7.72 1.47 1.35L5.41 20z\"/>\n",
              "  </svg>\n",
              "      </button>\n",
              "      \n",
              "  <style>\n",
              "    .colab-df-container {\n",
              "      display:flex;\n",
              "      flex-wrap:wrap;\n",
              "      gap: 12px;\n",
              "    }\n",
              "\n",
              "    .colab-df-convert {\n",
              "      background-color: #E8F0FE;\n",
              "      border: none;\n",
              "      border-radius: 50%;\n",
              "      cursor: pointer;\n",
              "      display: none;\n",
              "      fill: #1967D2;\n",
              "      height: 32px;\n",
              "      padding: 0 0 0 0;\n",
              "      width: 32px;\n",
              "    }\n",
              "\n",
              "    .colab-df-convert:hover {\n",
              "      background-color: #E2EBFA;\n",
              "      box-shadow: 0px 1px 2px rgba(60, 64, 67, 0.3), 0px 1px 3px 1px rgba(60, 64, 67, 0.15);\n",
              "      fill: #174EA6;\n",
              "    }\n",
              "\n",
              "    [theme=dark] .colab-df-convert {\n",
              "      background-color: #3B4455;\n",
              "      fill: #D2E3FC;\n",
              "    }\n",
              "\n",
              "    [theme=dark] .colab-df-convert:hover {\n",
              "      background-color: #434B5C;\n",
              "      box-shadow: 0px 1px 3px 1px rgba(0, 0, 0, 0.15);\n",
              "      filter: drop-shadow(0px 1px 2px rgba(0, 0, 0, 0.3));\n",
              "      fill: #FFFFFF;\n",
              "    }\n",
              "  </style>\n",
              "\n",
              "      <script>\n",
              "        const buttonEl =\n",
              "          document.querySelector('#df-e512e342-a1ca-4c56-bb41-80ffab0fb1a3 button.colab-df-convert');\n",
              "        buttonEl.style.display =\n",
              "          google.colab.kernel.accessAllowed ? 'block' : 'none';\n",
              "\n",
              "        async function convertToInteractive(key) {\n",
              "          const element = document.querySelector('#df-e512e342-a1ca-4c56-bb41-80ffab0fb1a3');\n",
              "          const dataTable =\n",
              "            await google.colab.kernel.invokeFunction('convertToInteractive',\n",
              "                                                     [key], {});\n",
              "          if (!dataTable) return;\n",
              "\n",
              "          const docLinkHtml = 'Like what you see? Visit the ' +\n",
              "            '<a target=\"_blank\" href=https://colab.research.google.com/notebooks/data_table.ipynb>data table notebook</a>'\n",
              "            + ' to learn more about interactive tables.';\n",
              "          element.innerHTML = '';\n",
              "          dataTable['output_type'] = 'display_data';\n",
              "          await google.colab.output.renderOutput(dataTable, element);\n",
              "          const docLink = document.createElement('div');\n",
              "          docLink.innerHTML = docLinkHtml;\n",
              "          element.appendChild(docLink);\n",
              "        }\n",
              "      </script>\n",
              "    </div>\n",
              "  </div>\n",
              "  "
            ]
          },
          "metadata": {},
          "execution_count": 27
        }
      ]
    },
    {
      "cell_type": "code",
      "source": [
        "subject_metadata.head()"
      ],
      "metadata": {
        "id": "hmov4S5D_UIU",
        "colab": {
          "base_uri": "https://localhost:8080/",
          "height": 206
        },
        "outputId": "df983358-4b19-4753-9a40-839f181d22c4"
      },
      "execution_count": 28,
      "outputs": [
        {
          "output_type": "execute_result",
          "data": {
            "text/plain": [
              "   SubjectId                    Name  ParentId  Level\n",
              "0          3                   Maths       NaN      0\n",
              "1         32                  Number       3.0      1\n",
              "2         33                  BIDMAS     144.0      3\n",
              "3         34  Upper and Lower Bounds     141.0      3\n",
              "4         35          Calculator Use      32.0      2"
            ],
            "text/html": [
              "\n",
              "  <div id=\"df-2ecc8547-6c33-41c2-a361-3e76a917c5e8\">\n",
              "    <div class=\"colab-df-container\">\n",
              "      <div>\n",
              "<style scoped>\n",
              "    .dataframe tbody tr th:only-of-type {\n",
              "        vertical-align: middle;\n",
              "    }\n",
              "\n",
              "    .dataframe tbody tr th {\n",
              "        vertical-align: top;\n",
              "    }\n",
              "\n",
              "    .dataframe thead th {\n",
              "        text-align: right;\n",
              "    }\n",
              "</style>\n",
              "<table border=\"1\" class=\"dataframe\">\n",
              "  <thead>\n",
              "    <tr style=\"text-align: right;\">\n",
              "      <th></th>\n",
              "      <th>SubjectId</th>\n",
              "      <th>Name</th>\n",
              "      <th>ParentId</th>\n",
              "      <th>Level</th>\n",
              "    </tr>\n",
              "  </thead>\n",
              "  <tbody>\n",
              "    <tr>\n",
              "      <th>0</th>\n",
              "      <td>3</td>\n",
              "      <td>Maths</td>\n",
              "      <td>NaN</td>\n",
              "      <td>0</td>\n",
              "    </tr>\n",
              "    <tr>\n",
              "      <th>1</th>\n",
              "      <td>32</td>\n",
              "      <td>Number</td>\n",
              "      <td>3.0</td>\n",
              "      <td>1</td>\n",
              "    </tr>\n",
              "    <tr>\n",
              "      <th>2</th>\n",
              "      <td>33</td>\n",
              "      <td>BIDMAS</td>\n",
              "      <td>144.0</td>\n",
              "      <td>3</td>\n",
              "    </tr>\n",
              "    <tr>\n",
              "      <th>3</th>\n",
              "      <td>34</td>\n",
              "      <td>Upper and Lower Bounds</td>\n",
              "      <td>141.0</td>\n",
              "      <td>3</td>\n",
              "    </tr>\n",
              "    <tr>\n",
              "      <th>4</th>\n",
              "      <td>35</td>\n",
              "      <td>Calculator Use</td>\n",
              "      <td>32.0</td>\n",
              "      <td>2</td>\n",
              "    </tr>\n",
              "  </tbody>\n",
              "</table>\n",
              "</div>\n",
              "      <button class=\"colab-df-convert\" onclick=\"convertToInteractive('df-2ecc8547-6c33-41c2-a361-3e76a917c5e8')\"\n",
              "              title=\"Convert this dataframe to an interactive table.\"\n",
              "              style=\"display:none;\">\n",
              "        \n",
              "  <svg xmlns=\"http://www.w3.org/2000/svg\" height=\"24px\"viewBox=\"0 0 24 24\"\n",
              "       width=\"24px\">\n",
              "    <path d=\"M0 0h24v24H0V0z\" fill=\"none\"/>\n",
              "    <path d=\"M18.56 5.44l.94 2.06.94-2.06 2.06-.94-2.06-.94-.94-2.06-.94 2.06-2.06.94zm-11 1L8.5 8.5l.94-2.06 2.06-.94-2.06-.94L8.5 2.5l-.94 2.06-2.06.94zm10 10l.94 2.06.94-2.06 2.06-.94-2.06-.94-.94-2.06-.94 2.06-2.06.94z\"/><path d=\"M17.41 7.96l-1.37-1.37c-.4-.4-.92-.59-1.43-.59-.52 0-1.04.2-1.43.59L10.3 9.45l-7.72 7.72c-.78.78-.78 2.05 0 2.83L4 21.41c.39.39.9.59 1.41.59.51 0 1.02-.2 1.41-.59l7.78-7.78 2.81-2.81c.8-.78.8-2.07 0-2.86zM5.41 20L4 18.59l7.72-7.72 1.47 1.35L5.41 20z\"/>\n",
              "  </svg>\n",
              "      </button>\n",
              "      \n",
              "  <style>\n",
              "    .colab-df-container {\n",
              "      display:flex;\n",
              "      flex-wrap:wrap;\n",
              "      gap: 12px;\n",
              "    }\n",
              "\n",
              "    .colab-df-convert {\n",
              "      background-color: #E8F0FE;\n",
              "      border: none;\n",
              "      border-radius: 50%;\n",
              "      cursor: pointer;\n",
              "      display: none;\n",
              "      fill: #1967D2;\n",
              "      height: 32px;\n",
              "      padding: 0 0 0 0;\n",
              "      width: 32px;\n",
              "    }\n",
              "\n",
              "    .colab-df-convert:hover {\n",
              "      background-color: #E2EBFA;\n",
              "      box-shadow: 0px 1px 2px rgba(60, 64, 67, 0.3), 0px 1px 3px 1px rgba(60, 64, 67, 0.15);\n",
              "      fill: #174EA6;\n",
              "    }\n",
              "\n",
              "    [theme=dark] .colab-df-convert {\n",
              "      background-color: #3B4455;\n",
              "      fill: #D2E3FC;\n",
              "    }\n",
              "\n",
              "    [theme=dark] .colab-df-convert:hover {\n",
              "      background-color: #434B5C;\n",
              "      box-shadow: 0px 1px 3px 1px rgba(0, 0, 0, 0.15);\n",
              "      filter: drop-shadow(0px 1px 2px rgba(0, 0, 0, 0.3));\n",
              "      fill: #FFFFFF;\n",
              "    }\n",
              "  </style>\n",
              "\n",
              "      <script>\n",
              "        const buttonEl =\n",
              "          document.querySelector('#df-2ecc8547-6c33-41c2-a361-3e76a917c5e8 button.colab-df-convert');\n",
              "        buttonEl.style.display =\n",
              "          google.colab.kernel.accessAllowed ? 'block' : 'none';\n",
              "\n",
              "        async function convertToInteractive(key) {\n",
              "          const element = document.querySelector('#df-2ecc8547-6c33-41c2-a361-3e76a917c5e8');\n",
              "          const dataTable =\n",
              "            await google.colab.kernel.invokeFunction('convertToInteractive',\n",
              "                                                     [key], {});\n",
              "          if (!dataTable) return;\n",
              "\n",
              "          const docLinkHtml = 'Like what you see? Visit the ' +\n",
              "            '<a target=\"_blank\" href=https://colab.research.google.com/notebooks/data_table.ipynb>data table notebook</a>'\n",
              "            + ' to learn more about interactive tables.';\n",
              "          element.innerHTML = '';\n",
              "          dataTable['output_type'] = 'display_data';\n",
              "          await google.colab.output.renderOutput(dataTable, element);\n",
              "          const docLink = document.createElement('div');\n",
              "          docLink.innerHTML = docLinkHtml;\n",
              "          element.appendChild(docLink);\n",
              "        }\n",
              "      </script>\n",
              "    </div>\n",
              "  </div>\n",
              "  "
            ]
          },
          "metadata": {},
          "execution_count": 28
        }
      ]
    },
    {
      "cell_type": "markdown",
      "source": [
        "# Calculate students' feature values for clustering them"
      ],
      "metadata": {
        "id": "au6mcA4Fl7KZ"
      }
    },
    {
      "cell_type": "code",
      "source": [
        "# Intergrate and group answer information for each students(users).\n",
        "answer_integrated = pd.merge(answer_correct_data, answer_metadata, 'inner', 'AnswerId')\n",
        "answer_integrated_user_group = answer_integrated.groupby('UserId')"
      ],
      "metadata": {
        "id": "vGuce60jl9hQ"
      },
      "execution_count": 29,
      "outputs": []
    },
    {
      "cell_type": "code",
      "source": [
        "# Calculate mean correct rate, mean confidence and the amount of solved questions for each student.\n",
        "student_solve_info = pd.DataFrame(columns=['SolvedCount', 'CorrectRate', 'MeanConfidence'])\n",
        "student_solve_info[['CorrectRate', 'MeanConfidence']] = answer_integrated_user_group.mean()[['IsCorrect', 'Confidence']]\n",
        "student_solve_info['SolvedCount'] = answer_integrated_user_group.size()"
      ],
      "metadata": {
        "colab": {
          "base_uri": "https://localhost:8080/"
        },
        "id": "MBxumo6_mZBv",
        "outputId": "3f240fac-a21f-47fa-8404-f10d5a63ba3d"
      },
      "execution_count": 30,
      "outputs": [
        {
          "output_type": "stream",
          "name": "stderr",
          "text": [
            "<ipython-input-30-eda47f2e1434>:3: FutureWarning: The default value of numeric_only in DataFrameGroupBy.mean is deprecated. In a future version, numeric_only will default to False. Either specify numeric_only or select only columns which should be valid for the function.\n",
            "  student_solve_info[['CorrectRate', 'MeanConfidence']] = answer_integrated_user_group.mean()[['IsCorrect', 'Confidence']]\n"
          ]
        }
      ]
    },
    {
      "cell_type": "code",
      "source": [
        "# Put UserId as dataframe's column. (Userid was the index of the dataframe)\n",
        "student_solve_info.reset_index(inplace=True)"
      ],
      "metadata": {
        "id": "8N07NRtvnmhc"
      },
      "execution_count": 31,
      "outputs": []
    },
    {
      "cell_type": "code",
      "source": [
        "# Exclude the students who solved less than 50 questions.\n",
        "student_solve_info = student_solve_info[student_solve_info['SolvedCount'] >= 50]"
      ],
      "metadata": {
        "id": "xv4dkj1Rny5G"
      },
      "execution_count": 32,
      "outputs": []
    },
    {
      "cell_type": "code",
      "source": [
        "# Exclude rows with NaN value.\n",
        "student_solve_info.isnull().sum() # 634 rows with NaN\n",
        "student_solve_info.dropna(axis='index', inplace=True)"
      ],
      "metadata": {
        "id": "GnxVtMqtn6an"
      },
      "execution_count": 33,
      "outputs": []
    },
    {
      "cell_type": "code",
      "source": [
        "# Perform feature scaling for students' features before clustering.\n",
        "from sklearn.preprocessing import MinMaxScaler\n",
        "scaler = MinMaxScaler()\n",
        "student_solve_info_scaled = scaler.fit_transform(student_solve_info, y=None)\n",
        "student_solve_info_scaled = pd.DataFrame(student_solve_info_scaled, index=student_solve_info.index, columns=student_solve_info.columns)\n",
        "student_solve_info_scaled[['UserId', 'SolvedCount']] = student_solve_info[['UserId', 'SolvedCount']] # restore UserId and SolvedCount column values.\n",
        "student_solve_info_scaled.describe()"
      ],
      "metadata": {
        "colab": {
          "base_uri": "https://localhost:8080/",
          "height": 300
        },
        "id": "r07DNLA8ouud",
        "outputId": "f2df36ac-fe89-4ffa-901d-8d98f56980f7"
      },
      "execution_count": 34,
      "outputs": [
        {
          "output_type": "execute_result",
          "data": {
            "text/plain": [
              "            UserId  SolvedCount  CorrectRate  MeanConfidence\n",
              "count  4284.000000  4284.000000  4284.000000     4284.000000\n",
              "mean   3041.310924   298.353408     0.439819        0.691973\n",
              "std    1780.296043   182.108883     0.215910        0.219878\n",
              "min       1.000000    50.000000     0.000000        0.000000\n",
              "25%    1501.500000   144.000000     0.270150        0.562228\n",
              "50%    3004.500000   259.000000     0.430894        0.729919\n",
              "75%    4591.250000   443.250000     0.590602        0.858696\n",
              "max    6147.000000   827.000000     1.000000        1.000000"
            ],
            "text/html": [
              "\n",
              "  <div id=\"df-be329b9e-1537-443d-abe2-0a3149c5250e\">\n",
              "    <div class=\"colab-df-container\">\n",
              "      <div>\n",
              "<style scoped>\n",
              "    .dataframe tbody tr th:only-of-type {\n",
              "        vertical-align: middle;\n",
              "    }\n",
              "\n",
              "    .dataframe tbody tr th {\n",
              "        vertical-align: top;\n",
              "    }\n",
              "\n",
              "    .dataframe thead th {\n",
              "        text-align: right;\n",
              "    }\n",
              "</style>\n",
              "<table border=\"1\" class=\"dataframe\">\n",
              "  <thead>\n",
              "    <tr style=\"text-align: right;\">\n",
              "      <th></th>\n",
              "      <th>UserId</th>\n",
              "      <th>SolvedCount</th>\n",
              "      <th>CorrectRate</th>\n",
              "      <th>MeanConfidence</th>\n",
              "    </tr>\n",
              "  </thead>\n",
              "  <tbody>\n",
              "    <tr>\n",
              "      <th>count</th>\n",
              "      <td>4284.000000</td>\n",
              "      <td>4284.000000</td>\n",
              "      <td>4284.000000</td>\n",
              "      <td>4284.000000</td>\n",
              "    </tr>\n",
              "    <tr>\n",
              "      <th>mean</th>\n",
              "      <td>3041.310924</td>\n",
              "      <td>298.353408</td>\n",
              "      <td>0.439819</td>\n",
              "      <td>0.691973</td>\n",
              "    </tr>\n",
              "    <tr>\n",
              "      <th>std</th>\n",
              "      <td>1780.296043</td>\n",
              "      <td>182.108883</td>\n",
              "      <td>0.215910</td>\n",
              "      <td>0.219878</td>\n",
              "    </tr>\n",
              "    <tr>\n",
              "      <th>min</th>\n",
              "      <td>1.000000</td>\n",
              "      <td>50.000000</td>\n",
              "      <td>0.000000</td>\n",
              "      <td>0.000000</td>\n",
              "    </tr>\n",
              "    <tr>\n",
              "      <th>25%</th>\n",
              "      <td>1501.500000</td>\n",
              "      <td>144.000000</td>\n",
              "      <td>0.270150</td>\n",
              "      <td>0.562228</td>\n",
              "    </tr>\n",
              "    <tr>\n",
              "      <th>50%</th>\n",
              "      <td>3004.500000</td>\n",
              "      <td>259.000000</td>\n",
              "      <td>0.430894</td>\n",
              "      <td>0.729919</td>\n",
              "    </tr>\n",
              "    <tr>\n",
              "      <th>75%</th>\n",
              "      <td>4591.250000</td>\n",
              "      <td>443.250000</td>\n",
              "      <td>0.590602</td>\n",
              "      <td>0.858696</td>\n",
              "    </tr>\n",
              "    <tr>\n",
              "      <th>max</th>\n",
              "      <td>6147.000000</td>\n",
              "      <td>827.000000</td>\n",
              "      <td>1.000000</td>\n",
              "      <td>1.000000</td>\n",
              "    </tr>\n",
              "  </tbody>\n",
              "</table>\n",
              "</div>\n",
              "      <button class=\"colab-df-convert\" onclick=\"convertToInteractive('df-be329b9e-1537-443d-abe2-0a3149c5250e')\"\n",
              "              title=\"Convert this dataframe to an interactive table.\"\n",
              "              style=\"display:none;\">\n",
              "        \n",
              "  <svg xmlns=\"http://www.w3.org/2000/svg\" height=\"24px\"viewBox=\"0 0 24 24\"\n",
              "       width=\"24px\">\n",
              "    <path d=\"M0 0h24v24H0V0z\" fill=\"none\"/>\n",
              "    <path d=\"M18.56 5.44l.94 2.06.94-2.06 2.06-.94-2.06-.94-.94-2.06-.94 2.06-2.06.94zm-11 1L8.5 8.5l.94-2.06 2.06-.94-2.06-.94L8.5 2.5l-.94 2.06-2.06.94zm10 10l.94 2.06.94-2.06 2.06-.94-2.06-.94-.94-2.06-.94 2.06-2.06.94z\"/><path d=\"M17.41 7.96l-1.37-1.37c-.4-.4-.92-.59-1.43-.59-.52 0-1.04.2-1.43.59L10.3 9.45l-7.72 7.72c-.78.78-.78 2.05 0 2.83L4 21.41c.39.39.9.59 1.41.59.51 0 1.02-.2 1.41-.59l7.78-7.78 2.81-2.81c.8-.78.8-2.07 0-2.86zM5.41 20L4 18.59l7.72-7.72 1.47 1.35L5.41 20z\"/>\n",
              "  </svg>\n",
              "      </button>\n",
              "      \n",
              "  <style>\n",
              "    .colab-df-container {\n",
              "      display:flex;\n",
              "      flex-wrap:wrap;\n",
              "      gap: 12px;\n",
              "    }\n",
              "\n",
              "    .colab-df-convert {\n",
              "      background-color: #E8F0FE;\n",
              "      border: none;\n",
              "      border-radius: 50%;\n",
              "      cursor: pointer;\n",
              "      display: none;\n",
              "      fill: #1967D2;\n",
              "      height: 32px;\n",
              "      padding: 0 0 0 0;\n",
              "      width: 32px;\n",
              "    }\n",
              "\n",
              "    .colab-df-convert:hover {\n",
              "      background-color: #E2EBFA;\n",
              "      box-shadow: 0px 1px 2px rgba(60, 64, 67, 0.3), 0px 1px 3px 1px rgba(60, 64, 67, 0.15);\n",
              "      fill: #174EA6;\n",
              "    }\n",
              "\n",
              "    [theme=dark] .colab-df-convert {\n",
              "      background-color: #3B4455;\n",
              "      fill: #D2E3FC;\n",
              "    }\n",
              "\n",
              "    [theme=dark] .colab-df-convert:hover {\n",
              "      background-color: #434B5C;\n",
              "      box-shadow: 0px 1px 3px 1px rgba(0, 0, 0, 0.15);\n",
              "      filter: drop-shadow(0px 1px 2px rgba(0, 0, 0, 0.3));\n",
              "      fill: #FFFFFF;\n",
              "    }\n",
              "  </style>\n",
              "\n",
              "      <script>\n",
              "        const buttonEl =\n",
              "          document.querySelector('#df-be329b9e-1537-443d-abe2-0a3149c5250e button.colab-df-convert');\n",
              "        buttonEl.style.display =\n",
              "          google.colab.kernel.accessAllowed ? 'block' : 'none';\n",
              "\n",
              "        async function convertToInteractive(key) {\n",
              "          const element = document.querySelector('#df-be329b9e-1537-443d-abe2-0a3149c5250e');\n",
              "          const dataTable =\n",
              "            await google.colab.kernel.invokeFunction('convertToInteractive',\n",
              "                                                     [key], {});\n",
              "          if (!dataTable) return;\n",
              "\n",
              "          const docLinkHtml = 'Like what you see? Visit the ' +\n",
              "            '<a target=\"_blank\" href=https://colab.research.google.com/notebooks/data_table.ipynb>data table notebook</a>'\n",
              "            + ' to learn more about interactive tables.';\n",
              "          element.innerHTML = '';\n",
              "          dataTable['output_type'] = 'display_data';\n",
              "          await google.colab.output.renderOutput(dataTable, element);\n",
              "          const docLink = document.createElement('div');\n",
              "          docLink.innerHTML = docLinkHtml;\n",
              "          element.appendChild(docLink);\n",
              "        }\n",
              "      </script>\n",
              "    </div>\n",
              "  </div>\n",
              "  "
            ]
          },
          "metadata": {},
          "execution_count": 34
        }
      ]
    },
    {
      "cell_type": "markdown",
      "source": [
        "#Using Clustering, Divide students by their academic achievement level"
      ],
      "metadata": {
        "id": "81J6kiZ_oCQA"
      }
    },
    {
      "cell_type": "code",
      "source": [
        "from sklearn.cluster import KMeans\n",
        "kmeans = KMeans(n_clusters=2, random_state=1)\n",
        "student_solve_info_scaled['AchievementGroup'] = kmeans.fit_predict(student_solve_info_scaled.drop(columns=['UserId', 'SolvedCount'], inplace=False))"
      ],
      "metadata": {
        "colab": {
          "base_uri": "https://localhost:8080/"
        },
        "id": "13gEGchvonPS",
        "outputId": "e1443891-2b51-4a68-edb3-6d0a784b17c5"
      },
      "execution_count": 35,
      "outputs": [
        {
          "output_type": "stream",
          "name": "stderr",
          "text": [
            "/usr/local/lib/python3.10/dist-packages/sklearn/cluster/_kmeans.py:870: FutureWarning: The default value of `n_init` will change from 10 to 'auto' in 1.4. Set the value of `n_init` explicitly to suppress the warning\n",
            "  warnings.warn(\n"
          ]
        }
      ]
    },
    {
      "cell_type": "code",
      "source": [
        "# Check which acheivement group has higher academic achievement level\n",
        "print('[Group 0]\\n', student_solve_info_scaled[student_solve_info_scaled['AchievementGroup'] == 0][['CorrectRate', 'MeanConfidence']].mean(), '\\n')\n",
        "print('[Group 1]\\n', student_solve_info_scaled[student_solve_info_scaled['AchievementGroup'] == 1][['CorrectRate', 'MeanConfidence']].mean(), '\\n')"
      ],
      "metadata": {
        "colab": {
          "base_uri": "https://localhost:8080/"
        },
        "id": "VRjDvMNOo8-5",
        "outputId": "892f91bd-cffc-4cc8-86eb-8f9422a98724"
      },
      "execution_count": 36,
      "outputs": [
        {
          "output_type": "stream",
          "name": "stdout",
          "text": [
            "[Group 0]\n",
            " CorrectRate       0.585214\n",
            "MeanConfidence    0.831452\n",
            "dtype: float64 \n",
            "\n",
            "[Group 1]\n",
            " CorrectRate       0.289172\n",
            "MeanConfidence    0.547456\n",
            "dtype: float64 \n",
            "\n"
          ]
        }
      ]
    },
    {
      "cell_type": "markdown",
      "source": [
        "Achievement group 0 has higher value in both CorrectRate and MeanConfidence.\n",
        "Thus, We can say that achievement group 0 is the upper academic achievement group, and group 1 is the lower academic achievement group."
      ],
      "metadata": {
        "id": "oX5DvXWzpNhm"
      }
    },
    {
      "cell_type": "markdown",
      "source": [
        "# Compute mean confidence of each question seperately for two achievement groups"
      ],
      "metadata": {
        "id": "YgdnDTRopXkE"
      }
    },
    {
      "cell_type": "code",
      "source": [
        "# Integrate the achievement group information to the answer data\n",
        "answer_integrated = pd.merge(answer_integrated, student_solve_info_scaled[['UserId', 'AchievementGroup']], 'left', 'UserId')\n",
        "answer_integrated['AchievementGroup'].value_counts()"
      ],
      "metadata": {
        "colab": {
          "base_uri": "https://localhost:8080/"
        },
        "id": "JagsDVTXpd9h",
        "outputId": "28765654-9aaf-46f9-b342-cf8b9e1eec9c"
      },
      "execution_count": 37,
      "outputs": [
        {
          "output_type": "execute_result",
          "data": {
            "text/plain": [
              "1.0    639208\n",
              "0.0    638938\n",
              "Name: AchievementGroup, dtype: int64"
            ]
          },
          "metadata": {},
          "execution_count": 37
        }
      ]
    },
    {
      "cell_type": "code",
      "source": [
        "# Make two confidence columns for each achievement group\n",
        "answer_integrated[['UpperGroupConfidence', 'LowerGroupConfidence']] = np.NaN\n",
        "answer_integrated['UpperGroupConfidence'] = answer_integrated[answer_integrated['AchievementGroup'] == 0]['Confidence']\n",
        "answer_integrated['LowerGroupConfidence'] = answer_integrated[answer_integrated['AchievementGroup'] == 1]['Confidence']\n",
        "answer_integrated.describe()"
      ],
      "metadata": {
        "colab": {
          "base_uri": "https://localhost:8080/",
          "height": 364
        },
        "id": "R4DobzqzpqHp",
        "outputId": "49ae75d8-0458-4e1d-f8d9-e415082145e7"
      },
      "execution_count": 38,
      "outputs": [
        {
          "output_type": "execute_result",
          "data": {
            "text/plain": [
              "         QuestionId        UserId      AnswerId     IsCorrect  CorrectAnswer  \\\n",
              "count  1.382727e+06  1.382727e+06  1.382727e+06  1.382727e+06   1.382727e+06   \n",
              "mean   4.682276e+02  3.036283e+03  7.544279e+05  5.373317e-01   2.390497e+00   \n",
              "std    2.735797e+02  1.770599e+03  4.356190e+05  4.986046e-01   1.066479e+00   \n",
              "min    0.000000e+00  1.000000e+00  0.000000e+00  0.000000e+00   1.000000e+00   \n",
              "25%    2.330000e+02  1.515000e+03  3.772935e+05  0.000000e+00   1.000000e+00   \n",
              "50%    4.680000e+02  3.009000e+03  7.544530e+05  1.000000e+00   2.000000e+00   \n",
              "75%    7.030000e+02  4.565000e+03  1.131772e+06  1.000000e+00   3.000000e+00   \n",
              "max    9.470000e+02  6.147000e+03  1.508916e+06  1.000000e+00   4.000000e+00   \n",
              "\n",
              "        AnswerValue     Confidence       GroupId        QuizId  \\\n",
              "count  1.382727e+06  346428.000000  1.382727e+06  1.382727e+06   \n",
              "mean   2.437992e+00      73.947617  1.961880e+02  6.139972e+01   \n",
              "std    1.067624e+00      31.216004  1.146402e+02  3.125018e+01   \n",
              "min    1.000000e+00       0.000000  0.000000e+00  0.000000e+00   \n",
              "25%    2.000000e+00      50.000000  9.500000e+01  3.700000e+01   \n",
              "50%    2.000000e+00      75.000000  1.980000e+02  6.300000e+01   \n",
              "75%    3.000000e+00     100.000000  3.000000e+02  8.600000e+01   \n",
              "max    4.000000e+00     100.000000  3.890000e+02  1.190000e+02   \n",
              "\n",
              "       SchemeOfWorkId  AchievementGroup  UpperGroupConfidence  \\\n",
              "count    1.267192e+06      1.278146e+06         223621.000000   \n",
              "mean     5.256224e+04      5.001056e-01             83.145925   \n",
              "std      5.732887e+01      5.000002e-01             24.759724   \n",
              "min      5.256200e+04      0.000000e+00              0.000000   \n",
              "25%      5.256200e+04      0.000000e+00             75.000000   \n",
              "50%      5.256200e+04      1.000000e+00            100.000000   \n",
              "75%      5.256200e+04      1.000000e+00            100.000000   \n",
              "max      6.632100e+04      1.000000e+00            100.000000   \n",
              "\n",
              "       LowerGroupConfidence  \n",
              "count         122807.000000  \n",
              "mean              57.198287  \n",
              "std               34.610828  \n",
              "min                0.000000  \n",
              "25%               25.000000  \n",
              "50%               50.000000  \n",
              "75%               75.000000  \n",
              "max              100.000000  "
            ],
            "text/html": [
              "\n",
              "  <div id=\"df-95fece19-e975-42f2-936d-977d7c860193\">\n",
              "    <div class=\"colab-df-container\">\n",
              "      <div>\n",
              "<style scoped>\n",
              "    .dataframe tbody tr th:only-of-type {\n",
              "        vertical-align: middle;\n",
              "    }\n",
              "\n",
              "    .dataframe tbody tr th {\n",
              "        vertical-align: top;\n",
              "    }\n",
              "\n",
              "    .dataframe thead th {\n",
              "        text-align: right;\n",
              "    }\n",
              "</style>\n",
              "<table border=\"1\" class=\"dataframe\">\n",
              "  <thead>\n",
              "    <tr style=\"text-align: right;\">\n",
              "      <th></th>\n",
              "      <th>QuestionId</th>\n",
              "      <th>UserId</th>\n",
              "      <th>AnswerId</th>\n",
              "      <th>IsCorrect</th>\n",
              "      <th>CorrectAnswer</th>\n",
              "      <th>AnswerValue</th>\n",
              "      <th>Confidence</th>\n",
              "      <th>GroupId</th>\n",
              "      <th>QuizId</th>\n",
              "      <th>SchemeOfWorkId</th>\n",
              "      <th>AchievementGroup</th>\n",
              "      <th>UpperGroupConfidence</th>\n",
              "      <th>LowerGroupConfidence</th>\n",
              "    </tr>\n",
              "  </thead>\n",
              "  <tbody>\n",
              "    <tr>\n",
              "      <th>count</th>\n",
              "      <td>1.382727e+06</td>\n",
              "      <td>1.382727e+06</td>\n",
              "      <td>1.382727e+06</td>\n",
              "      <td>1.382727e+06</td>\n",
              "      <td>1.382727e+06</td>\n",
              "      <td>1.382727e+06</td>\n",
              "      <td>346428.000000</td>\n",
              "      <td>1.382727e+06</td>\n",
              "      <td>1.382727e+06</td>\n",
              "      <td>1.267192e+06</td>\n",
              "      <td>1.278146e+06</td>\n",
              "      <td>223621.000000</td>\n",
              "      <td>122807.000000</td>\n",
              "    </tr>\n",
              "    <tr>\n",
              "      <th>mean</th>\n",
              "      <td>4.682276e+02</td>\n",
              "      <td>3.036283e+03</td>\n",
              "      <td>7.544279e+05</td>\n",
              "      <td>5.373317e-01</td>\n",
              "      <td>2.390497e+00</td>\n",
              "      <td>2.437992e+00</td>\n",
              "      <td>73.947617</td>\n",
              "      <td>1.961880e+02</td>\n",
              "      <td>6.139972e+01</td>\n",
              "      <td>5.256224e+04</td>\n",
              "      <td>5.001056e-01</td>\n",
              "      <td>83.145925</td>\n",
              "      <td>57.198287</td>\n",
              "    </tr>\n",
              "    <tr>\n",
              "      <th>std</th>\n",
              "      <td>2.735797e+02</td>\n",
              "      <td>1.770599e+03</td>\n",
              "      <td>4.356190e+05</td>\n",
              "      <td>4.986046e-01</td>\n",
              "      <td>1.066479e+00</td>\n",
              "      <td>1.067624e+00</td>\n",
              "      <td>31.216004</td>\n",
              "      <td>1.146402e+02</td>\n",
              "      <td>3.125018e+01</td>\n",
              "      <td>5.732887e+01</td>\n",
              "      <td>5.000002e-01</td>\n",
              "      <td>24.759724</td>\n",
              "      <td>34.610828</td>\n",
              "    </tr>\n",
              "    <tr>\n",
              "      <th>min</th>\n",
              "      <td>0.000000e+00</td>\n",
              "      <td>1.000000e+00</td>\n",
              "      <td>0.000000e+00</td>\n",
              "      <td>0.000000e+00</td>\n",
              "      <td>1.000000e+00</td>\n",
              "      <td>1.000000e+00</td>\n",
              "      <td>0.000000</td>\n",
              "      <td>0.000000e+00</td>\n",
              "      <td>0.000000e+00</td>\n",
              "      <td>5.256200e+04</td>\n",
              "      <td>0.000000e+00</td>\n",
              "      <td>0.000000</td>\n",
              "      <td>0.000000</td>\n",
              "    </tr>\n",
              "    <tr>\n",
              "      <th>25%</th>\n",
              "      <td>2.330000e+02</td>\n",
              "      <td>1.515000e+03</td>\n",
              "      <td>3.772935e+05</td>\n",
              "      <td>0.000000e+00</td>\n",
              "      <td>1.000000e+00</td>\n",
              "      <td>2.000000e+00</td>\n",
              "      <td>50.000000</td>\n",
              "      <td>9.500000e+01</td>\n",
              "      <td>3.700000e+01</td>\n",
              "      <td>5.256200e+04</td>\n",
              "      <td>0.000000e+00</td>\n",
              "      <td>75.000000</td>\n",
              "      <td>25.000000</td>\n",
              "    </tr>\n",
              "    <tr>\n",
              "      <th>50%</th>\n",
              "      <td>4.680000e+02</td>\n",
              "      <td>3.009000e+03</td>\n",
              "      <td>7.544530e+05</td>\n",
              "      <td>1.000000e+00</td>\n",
              "      <td>2.000000e+00</td>\n",
              "      <td>2.000000e+00</td>\n",
              "      <td>75.000000</td>\n",
              "      <td>1.980000e+02</td>\n",
              "      <td>6.300000e+01</td>\n",
              "      <td>5.256200e+04</td>\n",
              "      <td>1.000000e+00</td>\n",
              "      <td>100.000000</td>\n",
              "      <td>50.000000</td>\n",
              "    </tr>\n",
              "    <tr>\n",
              "      <th>75%</th>\n",
              "      <td>7.030000e+02</td>\n",
              "      <td>4.565000e+03</td>\n",
              "      <td>1.131772e+06</td>\n",
              "      <td>1.000000e+00</td>\n",
              "      <td>3.000000e+00</td>\n",
              "      <td>3.000000e+00</td>\n",
              "      <td>100.000000</td>\n",
              "      <td>3.000000e+02</td>\n",
              "      <td>8.600000e+01</td>\n",
              "      <td>5.256200e+04</td>\n",
              "      <td>1.000000e+00</td>\n",
              "      <td>100.000000</td>\n",
              "      <td>75.000000</td>\n",
              "    </tr>\n",
              "    <tr>\n",
              "      <th>max</th>\n",
              "      <td>9.470000e+02</td>\n",
              "      <td>6.147000e+03</td>\n",
              "      <td>1.508916e+06</td>\n",
              "      <td>1.000000e+00</td>\n",
              "      <td>4.000000e+00</td>\n",
              "      <td>4.000000e+00</td>\n",
              "      <td>100.000000</td>\n",
              "      <td>3.890000e+02</td>\n",
              "      <td>1.190000e+02</td>\n",
              "      <td>6.632100e+04</td>\n",
              "      <td>1.000000e+00</td>\n",
              "      <td>100.000000</td>\n",
              "      <td>100.000000</td>\n",
              "    </tr>\n",
              "  </tbody>\n",
              "</table>\n",
              "</div>\n",
              "      <button class=\"colab-df-convert\" onclick=\"convertToInteractive('df-95fece19-e975-42f2-936d-977d7c860193')\"\n",
              "              title=\"Convert this dataframe to an interactive table.\"\n",
              "              style=\"display:none;\">\n",
              "        \n",
              "  <svg xmlns=\"http://www.w3.org/2000/svg\" height=\"24px\"viewBox=\"0 0 24 24\"\n",
              "       width=\"24px\">\n",
              "    <path d=\"M0 0h24v24H0V0z\" fill=\"none\"/>\n",
              "    <path d=\"M18.56 5.44l.94 2.06.94-2.06 2.06-.94-2.06-.94-.94-2.06-.94 2.06-2.06.94zm-11 1L8.5 8.5l.94-2.06 2.06-.94-2.06-.94L8.5 2.5l-.94 2.06-2.06.94zm10 10l.94 2.06.94-2.06 2.06-.94-2.06-.94-.94-2.06-.94 2.06-2.06.94z\"/><path d=\"M17.41 7.96l-1.37-1.37c-.4-.4-.92-.59-1.43-.59-.52 0-1.04.2-1.43.59L10.3 9.45l-7.72 7.72c-.78.78-.78 2.05 0 2.83L4 21.41c.39.39.9.59 1.41.59.51 0 1.02-.2 1.41-.59l7.78-7.78 2.81-2.81c.8-.78.8-2.07 0-2.86zM5.41 20L4 18.59l7.72-7.72 1.47 1.35L5.41 20z\"/>\n",
              "  </svg>\n",
              "      </button>\n",
              "      \n",
              "  <style>\n",
              "    .colab-df-container {\n",
              "      display:flex;\n",
              "      flex-wrap:wrap;\n",
              "      gap: 12px;\n",
              "    }\n",
              "\n",
              "    .colab-df-convert {\n",
              "      background-color: #E8F0FE;\n",
              "      border: none;\n",
              "      border-radius: 50%;\n",
              "      cursor: pointer;\n",
              "      display: none;\n",
              "      fill: #1967D2;\n",
              "      height: 32px;\n",
              "      padding: 0 0 0 0;\n",
              "      width: 32px;\n",
              "    }\n",
              "\n",
              "    .colab-df-convert:hover {\n",
              "      background-color: #E2EBFA;\n",
              "      box-shadow: 0px 1px 2px rgba(60, 64, 67, 0.3), 0px 1px 3px 1px rgba(60, 64, 67, 0.15);\n",
              "      fill: #174EA6;\n",
              "    }\n",
              "\n",
              "    [theme=dark] .colab-df-convert {\n",
              "      background-color: #3B4455;\n",
              "      fill: #D2E3FC;\n",
              "    }\n",
              "\n",
              "    [theme=dark] .colab-df-convert:hover {\n",
              "      background-color: #434B5C;\n",
              "      box-shadow: 0px 1px 3px 1px rgba(0, 0, 0, 0.15);\n",
              "      filter: drop-shadow(0px 1px 2px rgba(0, 0, 0, 0.3));\n",
              "      fill: #FFFFFF;\n",
              "    }\n",
              "  </style>\n",
              "\n",
              "      <script>\n",
              "        const buttonEl =\n",
              "          document.querySelector('#df-95fece19-e975-42f2-936d-977d7c860193 button.colab-df-convert');\n",
              "        buttonEl.style.display =\n",
              "          google.colab.kernel.accessAllowed ? 'block' : 'none';\n",
              "\n",
              "        async function convertToInteractive(key) {\n",
              "          const element = document.querySelector('#df-95fece19-e975-42f2-936d-977d7c860193');\n",
              "          const dataTable =\n",
              "            await google.colab.kernel.invokeFunction('convertToInteractive',\n",
              "                                                     [key], {});\n",
              "          if (!dataTable) return;\n",
              "\n",
              "          const docLinkHtml = 'Like what you see? Visit the ' +\n",
              "            '<a target=\"_blank\" href=https://colab.research.google.com/notebooks/data_table.ipynb>data table notebook</a>'\n",
              "            + ' to learn more about interactive tables.';\n",
              "          element.innerHTML = '';\n",
              "          dataTable['output_type'] = 'display_data';\n",
              "          await google.colab.output.renderOutput(dataTable, element);\n",
              "          const docLink = document.createElement('div');\n",
              "          docLink.innerHTML = docLinkHtml;\n",
              "          element.appendChild(docLink);\n",
              "        }\n",
              "      </script>\n",
              "    </div>\n",
              "  </div>\n",
              "  "
            ]
          },
          "metadata": {},
          "execution_count": 38
        }
      ]
    },
    {
      "cell_type": "markdown",
      "source": [
        "# Calculate feature values to measure question quality, and make up train data"
      ],
      "metadata": {
        "id": "CnU1L7M2ACjP"
      }
    },
    {
      "cell_type": "code",
      "source": [
        "# Group the answer data by QuestionId\n",
        "answer_integrated_question_group = answer_integrated.groupby('QuestionId')"
      ],
      "metadata": {
        "id": "wuB4SYTmATnk"
      },
      "execution_count": 39,
      "outputs": []
    },
    {
      "cell_type": "code",
      "source": [
        "# Calculate for feature values for each question\n",
        "train_data = pd.DataFrame(columns=['IncorrectRate', 'AnswerVariance', 'UpperGroupConfidence', 'LowerGroupConfidence'])\n",
        "train_data.index.name = 'QuestionId'\n",
        "train_data['AnswerVariance'] = answer_integrated_question_group.var()['AnswerValue']\n",
        "train_data['IncorrectRate'] = 1 - answer_integrated_question_group.mean()['IsCorrect']\n",
        "train_data[['UpperGroupConfidence', 'LowerGroupConfidence']] = answer_integrated_question_group.mean()[['UpperGroupConfidence', 'LowerGroupConfidence']]"
      ],
      "metadata": {
        "colab": {
          "base_uri": "https://localhost:8080/"
        },
        "id": "LyHQtrQSATlL",
        "outputId": "eb4cc3e8-0d87-4881-c0f4-74cbc415ed85"
      },
      "execution_count": 40,
      "outputs": [
        {
          "output_type": "stream",
          "name": "stderr",
          "text": [
            "<ipython-input-40-49ee1b2f8fa6>:4: FutureWarning: The default value of numeric_only in DataFrameGroupBy.var is deprecated. In a future version, numeric_only will default to False. Either specify numeric_only or select only columns which should be valid for the function.\n",
            "  train_data['AnswerVariance'] = answer_integrated_question_group.var()['AnswerValue']\n",
            "<ipython-input-40-49ee1b2f8fa6>:5: FutureWarning: The default value of numeric_only in DataFrameGroupBy.mean is deprecated. In a future version, numeric_only will default to False. Either specify numeric_only or select only columns which should be valid for the function.\n",
            "  train_data['IncorrectRate'] = 1 - answer_integrated_question_group.mean()['IsCorrect']\n",
            "<ipython-input-40-49ee1b2f8fa6>:6: FutureWarning: The default value of numeric_only in DataFrameGroupBy.mean is deprecated. In a future version, numeric_only will default to False. Either specify numeric_only or select only columns which should be valid for the function.\n",
            "  train_data[['UpperGroupConfidence', 'LowerGroupConfidence']] = answer_integrated_question_group.mean()[['UpperGroupConfidence', 'LowerGroupConfidence']]\n"
          ]
        }
      ]
    },
    {
      "cell_type": "code",
      "source": [
        "# Replace NaN confidence values\n",
        "print(train_data.isnull().sum())\n",
        "print(answer_integrated[answer_integrated['QuestionId']==1].info())\n",
        "\n",
        "# There is some questions that none of its answers have either of the confidence info.\n",
        "# -> Fill them up with mean confidence values of each group.\n",
        "train_data['LowerGroupConfidence'] = train_data['LowerGroupConfidence'].fillna(train_data['LowerGroupConfidence'].mean())\n",
        "train_data['UpperGroupConfidence'] = train_data['UpperGroupConfidence'].fillna(train_data['UpperGroupConfidence'].mean())\n",
        "train_data.isnull().sum()"
      ],
      "metadata": {
        "colab": {
          "base_uri": "https://localhost:8080/"
        },
        "id": "zUIq-Vx4ATiJ",
        "outputId": "48f7a424-d531-474b-d424-9411b6750545"
      },
      "execution_count": 41,
      "outputs": [
        {
          "output_type": "stream",
          "name": "stdout",
          "text": [
            "IncorrectRate            0\n",
            "AnswerVariance           0\n",
            "UpperGroupConfidence    45\n",
            "LowerGroupConfidence    58\n",
            "dtype: int64\n",
            "<class 'pandas.core.frame.DataFrame'>\n",
            "Int64Index: 14 entries, 6452 to 1291796\n",
            "Data columns (total 14 columns):\n",
            " #   Column                Non-Null Count  Dtype  \n",
            "---  ------                --------------  -----  \n",
            " 0   QuestionId            14 non-null     int64  \n",
            " 1   UserId                14 non-null     int64  \n",
            " 2   AnswerId              14 non-null     int64  \n",
            " 3   IsCorrect             14 non-null     int64  \n",
            " 4   CorrectAnswer         14 non-null     int64  \n",
            " 5   AnswerValue           14 non-null     int64  \n",
            " 6   DateAnswered          14 non-null     object \n",
            " 7   Confidence            0 non-null      float64\n",
            " 8   GroupId               14 non-null     int64  \n",
            " 9   QuizId                14 non-null     int64  \n",
            " 10  SchemeOfWorkId        1 non-null      float64\n",
            " 11  AchievementGroup      1 non-null      float64\n",
            " 12  UpperGroupConfidence  0 non-null      float64\n",
            " 13  LowerGroupConfidence  0 non-null      float64\n",
            "dtypes: float64(5), int64(8), object(1)\n",
            "memory usage: 1.6+ KB\n",
            "None\n"
          ]
        },
        {
          "output_type": "execute_result",
          "data": {
            "text/plain": [
              "IncorrectRate           0\n",
              "AnswerVariance          0\n",
              "UpperGroupConfidence    0\n",
              "LowerGroupConfidence    0\n",
              "dtype: int64"
            ]
          },
          "metadata": {},
          "execution_count": 41
        }
      ]
    },
    {
      "cell_type": "markdown",
      "source": [
        "# Reduce the feature dimension using PCA"
      ],
      "metadata": {
        "id": "tTukZNP7BgBy"
      }
    },
    {
      "cell_type": "code",
      "source": [
        "# Scale the feature values before PCA\n",
        "scaler = MinMaxScaler()\n",
        "train_data_scaled = scaler.fit_transform(train_data)\n",
        "train_data_scaled = pd.DataFrame(train_data_scaled, index=train_data.index, columns=train_data.columns)\n",
        "train_data_scaled.describe()"
      ],
      "metadata": {
        "id": "UffhPsgoATb1",
        "colab": {
          "base_uri": "https://localhost:8080/",
          "height": 300
        },
        "outputId": "f2e77b89-7cd9-45cb-e637-1b8dc980346f"
      },
      "execution_count": 42,
      "outputs": [
        {
          "output_type": "execute_result",
          "data": {
            "text/plain": [
              "       IncorrectRate  AnswerVariance  UpperGroupConfidence  \\\n",
              "count     948.000000      948.000000            948.000000   \n",
              "mean        0.575116        0.315115              0.622323   \n",
              "std         0.182853        0.110457              0.176214   \n",
              "min         0.000000        0.000000              0.000000   \n",
              "25%         0.446176        0.246850              0.520160   \n",
              "50%         0.588857        0.315836              0.641803   \n",
              "75%         0.715362        0.381184              0.754300   \n",
              "max         1.000000        1.000000              1.000000   \n",
              "\n",
              "       LowerGroupConfidence  \n",
              "count            948.000000  \n",
              "mean               0.546315  \n",
              "std                0.141749  \n",
              "min                0.000000  \n",
              "25%                0.462588  \n",
              "50%                0.546315  \n",
              "75%                0.642857  \n",
              "max                1.000000  "
            ],
            "text/html": [
              "\n",
              "  <div id=\"df-97a653b7-9712-4de6-b6f3-c37d58e489ae\">\n",
              "    <div class=\"colab-df-container\">\n",
              "      <div>\n",
              "<style scoped>\n",
              "    .dataframe tbody tr th:only-of-type {\n",
              "        vertical-align: middle;\n",
              "    }\n",
              "\n",
              "    .dataframe tbody tr th {\n",
              "        vertical-align: top;\n",
              "    }\n",
              "\n",
              "    .dataframe thead th {\n",
              "        text-align: right;\n",
              "    }\n",
              "</style>\n",
              "<table border=\"1\" class=\"dataframe\">\n",
              "  <thead>\n",
              "    <tr style=\"text-align: right;\">\n",
              "      <th></th>\n",
              "      <th>IncorrectRate</th>\n",
              "      <th>AnswerVariance</th>\n",
              "      <th>UpperGroupConfidence</th>\n",
              "      <th>LowerGroupConfidence</th>\n",
              "    </tr>\n",
              "  </thead>\n",
              "  <tbody>\n",
              "    <tr>\n",
              "      <th>count</th>\n",
              "      <td>948.000000</td>\n",
              "      <td>948.000000</td>\n",
              "      <td>948.000000</td>\n",
              "      <td>948.000000</td>\n",
              "    </tr>\n",
              "    <tr>\n",
              "      <th>mean</th>\n",
              "      <td>0.575116</td>\n",
              "      <td>0.315115</td>\n",
              "      <td>0.622323</td>\n",
              "      <td>0.546315</td>\n",
              "    </tr>\n",
              "    <tr>\n",
              "      <th>std</th>\n",
              "      <td>0.182853</td>\n",
              "      <td>0.110457</td>\n",
              "      <td>0.176214</td>\n",
              "      <td>0.141749</td>\n",
              "    </tr>\n",
              "    <tr>\n",
              "      <th>min</th>\n",
              "      <td>0.000000</td>\n",
              "      <td>0.000000</td>\n",
              "      <td>0.000000</td>\n",
              "      <td>0.000000</td>\n",
              "    </tr>\n",
              "    <tr>\n",
              "      <th>25%</th>\n",
              "      <td>0.446176</td>\n",
              "      <td>0.246850</td>\n",
              "      <td>0.520160</td>\n",
              "      <td>0.462588</td>\n",
              "    </tr>\n",
              "    <tr>\n",
              "      <th>50%</th>\n",
              "      <td>0.588857</td>\n",
              "      <td>0.315836</td>\n",
              "      <td>0.641803</td>\n",
              "      <td>0.546315</td>\n",
              "    </tr>\n",
              "    <tr>\n",
              "      <th>75%</th>\n",
              "      <td>0.715362</td>\n",
              "      <td>0.381184</td>\n",
              "      <td>0.754300</td>\n",
              "      <td>0.642857</td>\n",
              "    </tr>\n",
              "    <tr>\n",
              "      <th>max</th>\n",
              "      <td>1.000000</td>\n",
              "      <td>1.000000</td>\n",
              "      <td>1.000000</td>\n",
              "      <td>1.000000</td>\n",
              "    </tr>\n",
              "  </tbody>\n",
              "</table>\n",
              "</div>\n",
              "      <button class=\"colab-df-convert\" onclick=\"convertToInteractive('df-97a653b7-9712-4de6-b6f3-c37d58e489ae')\"\n",
              "              title=\"Convert this dataframe to an interactive table.\"\n",
              "              style=\"display:none;\">\n",
              "        \n",
              "  <svg xmlns=\"http://www.w3.org/2000/svg\" height=\"24px\"viewBox=\"0 0 24 24\"\n",
              "       width=\"24px\">\n",
              "    <path d=\"M0 0h24v24H0V0z\" fill=\"none\"/>\n",
              "    <path d=\"M18.56 5.44l.94 2.06.94-2.06 2.06-.94-2.06-.94-.94-2.06-.94 2.06-2.06.94zm-11 1L8.5 8.5l.94-2.06 2.06-.94-2.06-.94L8.5 2.5l-.94 2.06-2.06.94zm10 10l.94 2.06.94-2.06 2.06-.94-2.06-.94-.94-2.06-.94 2.06-2.06.94z\"/><path d=\"M17.41 7.96l-1.37-1.37c-.4-.4-.92-.59-1.43-.59-.52 0-1.04.2-1.43.59L10.3 9.45l-7.72 7.72c-.78.78-.78 2.05 0 2.83L4 21.41c.39.39.9.59 1.41.59.51 0 1.02-.2 1.41-.59l7.78-7.78 2.81-2.81c.8-.78.8-2.07 0-2.86zM5.41 20L4 18.59l7.72-7.72 1.47 1.35L5.41 20z\"/>\n",
              "  </svg>\n",
              "      </button>\n",
              "      \n",
              "  <style>\n",
              "    .colab-df-container {\n",
              "      display:flex;\n",
              "      flex-wrap:wrap;\n",
              "      gap: 12px;\n",
              "    }\n",
              "\n",
              "    .colab-df-convert {\n",
              "      background-color: #E8F0FE;\n",
              "      border: none;\n",
              "      border-radius: 50%;\n",
              "      cursor: pointer;\n",
              "      display: none;\n",
              "      fill: #1967D2;\n",
              "      height: 32px;\n",
              "      padding: 0 0 0 0;\n",
              "      width: 32px;\n",
              "    }\n",
              "\n",
              "    .colab-df-convert:hover {\n",
              "      background-color: #E2EBFA;\n",
              "      box-shadow: 0px 1px 2px rgba(60, 64, 67, 0.3), 0px 1px 3px 1px rgba(60, 64, 67, 0.15);\n",
              "      fill: #174EA6;\n",
              "    }\n",
              "\n",
              "    [theme=dark] .colab-df-convert {\n",
              "      background-color: #3B4455;\n",
              "      fill: #D2E3FC;\n",
              "    }\n",
              "\n",
              "    [theme=dark] .colab-df-convert:hover {\n",
              "      background-color: #434B5C;\n",
              "      box-shadow: 0px 1px 3px 1px rgba(0, 0, 0, 0.15);\n",
              "      filter: drop-shadow(0px 1px 2px rgba(0, 0, 0, 0.3));\n",
              "      fill: #FFFFFF;\n",
              "    }\n",
              "  </style>\n",
              "\n",
              "      <script>\n",
              "        const buttonEl =\n",
              "          document.querySelector('#df-97a653b7-9712-4de6-b6f3-c37d58e489ae button.colab-df-convert');\n",
              "        buttonEl.style.display =\n",
              "          google.colab.kernel.accessAllowed ? 'block' : 'none';\n",
              "\n",
              "        async function convertToInteractive(key) {\n",
              "          const element = document.querySelector('#df-97a653b7-9712-4de6-b6f3-c37d58e489ae');\n",
              "          const dataTable =\n",
              "            await google.colab.kernel.invokeFunction('convertToInteractive',\n",
              "                                                     [key], {});\n",
              "          if (!dataTable) return;\n",
              "\n",
              "          const docLinkHtml = 'Like what you see? Visit the ' +\n",
              "            '<a target=\"_blank\" href=https://colab.research.google.com/notebooks/data_table.ipynb>data table notebook</a>'\n",
              "            + ' to learn more about interactive tables.';\n",
              "          element.innerHTML = '';\n",
              "          dataTable['output_type'] = 'display_data';\n",
              "          await google.colab.output.renderOutput(dataTable, element);\n",
              "          const docLink = document.createElement('div');\n",
              "          docLink.innerHTML = docLinkHtml;\n",
              "          element.appendChild(docLink);\n",
              "        }\n",
              "      </script>\n",
              "    </div>\n",
              "  </div>\n",
              "  "
            ]
          },
          "metadata": {},
          "execution_count": 42
        }
      ]
    },
    {
      "cell_type": "code",
      "source": [
        "from sklearn.decomposition import PCA\n",
        "pca = PCA(n_components=3)\n",
        "train_data_PCA = pca.fit_transform(train_data_scaled)\n",
        "train_data_PCA = pd.DataFrame(data=train_data_PCA, columns=['PC1', 'PC2', 'PC3'])"
      ],
      "metadata": {
        "id": "sP7ToUBJu-rM"
      },
      "execution_count": 43,
      "outputs": []
    },
    {
      "cell_type": "markdown",
      "source": [
        "# Define functions for validation"
      ],
      "metadata": {
        "id": "rD2wTC26vZsH"
      }
    },
    {
      "cell_type": "code",
      "source": [
        "# Function for calculating prediction score for each expert's decision\n",
        "def calcPredictionScore(question_compare_data, question_quality_rank):\n",
        "    question_quality_compare = []\n",
        "    for index in question_compare_data.index:\n",
        "        left_question = question_compare_data.at[index, 'left']\n",
        "        right_question = question_compare_data.at[index, 'right']\n",
        "        question_quality_compare.append(1 if question_quality_rank[left_question] < question_quality_rank[right_question] else 2)\n",
        "\n",
        "    prediction_scores = pd.Series([0.0, 0.0, 0.0, 0.0, 0.0])\n",
        "    for index in question_compare_data.index:\n",
        "        if question_quality_compare[index] == question_compare_data['T1_ALR'][index]:\n",
        "            prediction_scores[0] += 1\n",
        "        if question_quality_compare[index] == question_compare_data['T2_CL'][index]:\n",
        "            prediction_scores[1] += 1\n",
        "        if question_quality_compare[index] == question_compare_data['T3_GF'][index]:\n",
        "            prediction_scores[2] += 1\n",
        "        if question_quality_compare[index] == question_compare_data['T4_MQ'][index]:\n",
        "            prediction_scores[3] += 1\n",
        "        if question_quality_compare[index] == question_compare_data['T5_NS'][index]:\n",
        "            prediction_scores[4] += 1\n",
        "\n",
        "    for expert in range(5):\n",
        "        prediction_scores[expert] = prediction_scores[expert] / len(question_compare_data)\n",
        "    return prediction_scores"
      ],
      "metadata": {
        "id": "MTgN60m4vcdm"
      },
      "execution_count": 44,
      "outputs": []
    },
    {
      "cell_type": "code",
      "source": [
        "import matplotlib.pyplot as plt\n",
        "\n",
        "# Function for finding the quality measure predcition that results in the best validation score\n",
        "def calcBestQuestionQualityPrediction(feature_data, question_compare_data, pc1_coef_list, pc2_coef_list, pc3_coef_list):\n",
        "    best_score = 0.0\n",
        "    best_question_quality = pd.DataFrame(columns=['QualityMeasure', 'Rank'])\n",
        "    best_coef_map = {\"pc1\" : 0.0, \"pc2\" : 0.0, \"pc3\" : 0.0}\n",
        "\n",
        "    for pc1_coef in pc1_coef_list:\n",
        "        for pc2_coef in pc2_coef_list:\n",
        "            for pc3_coef in pc3_coef_list:\n",
        "\n",
        "                question_quality = pd.DataFrame(columns=['QualityMeasure', 'Rank'])\n",
        "                question_quality.index.name = 'QuestionId'\n",
        "\n",
        "                # Calculate the quality measure value (i.e. the weighted sum of the features)\n",
        "                feature_data['PC1_weighted'] = feature_data['PC1'].apply(lambda value: pc1_coef*value)\n",
        "                feature_data['PC2_weighted'] = feature_data['PC2'].apply(lambda value: pc2_coef*value)\n",
        "                feature_data['PC3_weighted'] = feature_data['PC3'].apply(lambda value: pc3_coef*value)\n",
        "                question_quality['QualityMeasure'] = feature_data[['PC1_weighted', 'PC2_weighted', 'PC3_weighted']].apply(np.sum, axis='columns')\n",
        "\n",
        "                # Assign quality rank to each question based on the quality measure value\n",
        "                question_quality['Rank'] = question_quality['QualityMeasure'].rank(method='first', ascending=False)\n",
        "                question_quality.describe()\n",
        "\n",
        "                # Calculate prediction scores for the experts' decision\n",
        "                validation_scores = calcPredictionScore(question_compare_data, question_quality['Rank'])\n",
        "                mean_score = validation_scores.mean()\n",
        "\n",
        "                if mean_score > best_score:\n",
        "                    best_score = mean_score\n",
        "                    best_question_quality = question_quality\n",
        "                    best_coef_map['pc1'] = pc1_coef\n",
        "                    best_coef_map['pc2'] = pc2_coef\n",
        "                    best_coef_map['pc3'] = pc3_coef\n",
        "\n",
        "                #  Plot the mean score with current coefficient values\n",
        "                plt.figure(1)\n",
        "                plt.scatter(pc1_coef, mean_score)\n",
        "                plt.figure(2)\n",
        "                plt.scatter(pc2_coef, mean_score)\n",
        "                plt.figure(3)\n",
        "                plt.scatter(pc3_coef, mean_score)\n",
        "\n",
        "    print(\"Max Validation Mean Score: \", best_score)\n",
        "    print(\"Best Coefficient: \", best_coef_map)\n",
        "    return best_question_quality.astype(dtype={'QualityMeasure':'float64', 'Rank':'int64'})"
      ],
      "metadata": {
        "id": "7_7dwGdcvi_K"
      },
      "execution_count": 45,
      "outputs": []
    },
    {
      "cell_type": "markdown",
      "source": [
        "# Validation"
      ],
      "metadata": {
        "id": "ZQcgXrkvDLEn"
      }
    },
    {
      "cell_type": "code",
      "source": [
        "# Load validation data and submission template\n",
        "validation_data = pd.read_csv('project/data/test_data/quality_response_remapped_public.csv', na_values='?')\n",
        "template = pd.read_csv('project/submission/template.csv', na_values='?')"
      ],
      "metadata": {
        "id": "tac6jZE6DPiy"
      },
      "execution_count": 46,
      "outputs": []
    },
    {
      "cell_type": "code",
      "source": [
        "# For plotting\n",
        "fig1 = plt.figure(1, figsize=(4,3), dpi = 200)\n",
        "plt.xlabel('PC1')\n",
        "plt.ylabel('Mean expert score')\n",
        "\n",
        "fig2 = plt.figure(2, figsize=(4,3), dpi = 200)\n",
        "plt.xlabel('PC2')\n",
        "plt.ylabel('Mean expert score')\n",
        "\n",
        "fig2 = plt.figure(3, figsize=(4,3), dpi = 200)\n",
        "plt.xlabel('PC3')\n",
        "plt.ylabel('Mean expert score')"
      ],
      "metadata": {
        "id": "zmqjPZ4jZcEF"
      },
      "execution_count": null,
      "outputs": []
    },
    {
      "cell_type": "code",
      "source": [
        "# Predict the question quality value and rank using validation with gridsearch\n",
        "question_quality_list = calcBestQuestionQualityPrediction(train_data_PCA, validation_data,\n",
        "                                                          [-0.30, -0.20, -0.10, 0.0, 0.10, 0.20, 0.30], # Coef for PC1\n",
        "                                                          [-0.30, -0.20, -0.10, 0.0, 0.10, 0.20, 0.30], # Coef for PC2\n",
        "                                                          [-0.30, -0.20, -0.10, 0.0, 0.10, 0.20, 0.30]) # Coef for PC3"
      ],
      "metadata": {
        "colab": {
          "base_uri": "https://localhost:8080/",
          "height": 1000
        },
        "id": "sZ-ZvaWDyr7l",
        "outputId": "cd310030-1d77-40e0-d32a-e9a4c8e6e513"
      },
      "execution_count": 48,
      "outputs": [
        {
          "output_type": "stream",
          "name": "stdout",
          "text": [
            "Max Validation Mean Score:  0.768\n",
            "Best Coefficient:  {'pc1': 0.1, 'pc2': 0.0, 'pc3': 0.2}\n"
          ]
        },
        {
          "output_type": "display_data",
          "data": {
            "text/plain": [
              "<Figure size 640x480 with 1 Axes>"
            ],
            "image/png": "[encoded data removed]"
          },
          "metadata": {}
        },
        {
          "output_type": "display_data",
          "data": {
            "text/plain": [
              "<Figure size 640x480 with 1 Axes>"
            ],
            "image/png": "[encoded data removed]"
          },
          "metadata": {}
        },
        {
          "output_type": "display_data",
          "data": {
            "text/plain": [
              "<Figure size 640x480 with 1 Axes>"
            ],
            "image/png": "[encoded data removed]"
          },
          "metadata": {}
        }
      ]
    },
    {
      "cell_type": "code",
      "source": [
        "# Write question ranks to csv file\n",
        "for question_id in template['QuestionId']:\n",
        "    template.at[question_id, 'ranking'] = question_quality_list.at[question_id, 'Rank']\n",
        "\n",
        "template.to_csv('project/submission/20182632.csv', index=False)"
      ],
      "metadata": {
        "id": "17782q2qKi_o"
      },
      "execution_count": 49,
      "outputs": []
    },
    {
      "cell_type": "markdown",
      "source": [
        "# Get final test score"
      ],
      "metadata": {
        "id": "7UhGqYbnER_e"
      }
    },
    {
      "cell_type": "code",
      "source": [
        "# Load test data\n",
        "test_data = pd.read_csv('project/data/test_data/quality_response_remapped_private.csv', na_values='?')"
      ],
      "metadata": {
        "id": "4QQ6R3VzEmHB"
      },
      "execution_count": 50,
      "outputs": []
    },
    {
      "cell_type": "code",
      "source": [
        "# Compute prediction score for the test data\n",
        "test_scores = calcPredictionScore(test_data, question_quality_list['Rank'])"
      ],
      "metadata": {
        "id": "QrKf0H2FEmBP"
      },
      "execution_count": 51,
      "outputs": []
    },
    {
      "cell_type": "code",
      "source": [
        "# Show validation score\n",
        "print('[Test Scores]', test_scores)\n",
        "print(\"Max Test Score: \", test_scores.max())"
      ],
      "metadata": {
        "id": "oKJe7QiGke2g",
        "colab": {
          "base_uri": "https://localhost:8080/"
        },
        "outputId": "507b0e7d-43ff-4762-db2c-a8a672388daf"
      },
      "execution_count": 52,
      "outputs": [
        {
          "output_type": "stream",
          "name": "stdout",
          "text": [
            "[Test Scores] 0    0.84\n",
            "1    0.64\n",
            "2    0.72\n",
            "3    0.64\n",
            "4    0.68\n",
            "dtype: float64\n",
            "Max Test Score:  0.84\n"
          ]
        }
      ]
    },
    {
      "cell_type": "markdown",
      "source": [
        "# Further analysis"
      ],
      "metadata": {
        "id": "rEHnnymR1qfM"
      }
    },
    {
      "cell_type": "code",
      "source": [],
      "metadata": {
        "id": "NwT7aJVc17cn"
      },
      "execution_count": null,
      "outputs": []
    }
  ]
}