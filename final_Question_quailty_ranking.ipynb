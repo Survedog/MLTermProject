{
  "nbformat": 4,
  "nbformat_minor": 0,
  "metadata": {
    "colab": {
      "provenance": [],
      "history_visible": true
    },
    "kernelspec": {
      "name": "python3",
      "display_name": "Python 3"
    },
    "language_info": {
      "name": "python"
    }
  },
  "cells": [
    {
      "cell_type": "markdown",
      "source": [
        "# Setup"
      ],
      "metadata": {
        "id": "BVvgPT5sBnR_"
      }
    },
    {
      "cell_type": "code",
      "source": [
        "# Get project folder\n",
        "!git clone https://github.com/Survedog/MLTermProject.git project"
      ],
      "metadata": {
        "colab": {
          "base_uri": "https://localhost:8080/"
        },
        "id": "GtV8-b7Z9Xgy",
        "outputId": "17982e5c-30d8-4e83-815c-397d2aafe6a8"
      },
      "execution_count": 1,
      "outputs": [
        {
          "output_type": "stream",
          "name": "stdout",
          "text": [
            "Cloning into 'project'...\n",
            "remote: Enumerating objects: 1020, done.\u001b[K\n",
            "remote: Counting objects: 100% (54/54), done.\u001b[K\n",
            "remote: Compressing objects: 100% (41/41), done.\u001b[K\n",
            "remote: Total 1020 (delta 24), reused 40 (delta 13), pack-reused 966\u001b[K\n",
            "Receiving objects: 100% (1020/1020), 69.56 MiB | 14.05 MiB/s, done.\n",
            "Resolving deltas: 100% (25/25), done.\n",
            "Updating files: 100% (963/963), done.\n"
          ]
        }
      ]
    },
    {
      "cell_type": "code",
      "execution_count": 2,
      "metadata": {
        "id": "qeO26wgo7cKl"
      },
      "outputs": [],
      "source": [
        "import pandas as pd\n",
        "import numpy as np\n",
        "pd.options.display.max_columns=100\n"
      ]
    },
    {
      "cell_type": "markdown",
      "source": [
        "# Load Data"
      ],
      "metadata": {
        "id": "y6ffvFTy_tDZ"
      }
    },
    {
      "cell_type": "code",
      "source": [
        "answer_correct_data = pd.read_csv('project/data/train_data/train_task_3_4.csv', na_values='?')\n",
        "answer_metadata = pd.read_csv('project/data/metadata/answer_metadata_task_3_4.csv', na_values='?')\n",
        "question_metadata = pd.read_csv('project/data/metadata/question_metadata_task_3_4.csv', na_values='?')\n",
        "student_metadata = pd.read_csv('project/data/metadata/student_metadata_task_3_4.csv', na_values='?')\n",
        "subject_metadata = pd.read_csv('project/data/metadata/subject_metadata.csv', na_values='?')"
      ],
      "metadata": {
        "id": "Dpsht8Lw_NJS"
      },
      "execution_count": 3,
      "outputs": []
    },
    {
      "cell_type": "code",
      "source": [
        "answer_correct_data.head()"
      ],
      "metadata": {
        "id": "3XrmFJvV_T31",
        "colab": {
          "base_uri": "https://localhost:8080/",
          "height": 206
        },
        "outputId": "f059aac6-4771-463e-88b1-fb8572f30e7f"
      },
      "execution_count": 4,
      "outputs": [
        {
          "output_type": "execute_result",
          "data": {
            "text/plain": [
              "   QuestionId  UserId  AnswerId  IsCorrect  CorrectAnswer  AnswerValue\n",
              "0         898    2111    280203          1              2            2\n",
              "1         767    3062     55638          1              3            3\n",
              "2         165    1156    386475          1              2            2\n",
              "3         490    1653    997498          1              4            4\n",
              "4         298    3912    578636          1              3            3"
            ],
            "text/html": [
              "\n",
              "  <div id=\"df-68a03279-0fa2-4b31-ac73-3970f8645eae\">\n",
              "    <div class=\"colab-df-container\">\n",
              "      <div>\n",
              "<style scoped>\n",
              "    .dataframe tbody tr th:only-of-type {\n",
              "        vertical-align: middle;\n",
              "    }\n",
              "\n",
              "    .dataframe tbody tr th {\n",
              "        vertical-align: top;\n",
              "    }\n",
              "\n",
              "    .dataframe thead th {\n",
              "        text-align: right;\n",
              "    }\n",
              "</style>\n",
              "<table border=\"1\" class=\"dataframe\">\n",
              "  <thead>\n",
              "    <tr style=\"text-align: right;\">\n",
              "      <th></th>\n",
              "      <th>QuestionId</th>\n",
              "      <th>UserId</th>\n",
              "      <th>AnswerId</th>\n",
              "      <th>IsCorrect</th>\n",
              "      <th>CorrectAnswer</th>\n",
              "      <th>AnswerValue</th>\n",
              "    </tr>\n",
              "  </thead>\n",
              "  <tbody>\n",
              "    <tr>\n",
              "      <th>0</th>\n",
              "      <td>898</td>\n",
              "      <td>2111</td>\n",
              "      <td>280203</td>\n",
              "      <td>1</td>\n",
              "      <td>2</td>\n",
              "      <td>2</td>\n",
              "    </tr>\n",
              "    <tr>\n",
              "      <th>1</th>\n",
              "      <td>767</td>\n",
              "      <td>3062</td>\n",
              "      <td>55638</td>\n",
              "      <td>1</td>\n",
              "      <td>3</td>\n",
              "      <td>3</td>\n",
              "    </tr>\n",
              "    <tr>\n",
              "      <th>2</th>\n",
              "      <td>165</td>\n",
              "      <td>1156</td>\n",
              "      <td>386475</td>\n",
              "      <td>1</td>\n",
              "      <td>2</td>\n",
              "      <td>2</td>\n",
              "    </tr>\n",
              "    <tr>\n",
              "      <th>3</th>\n",
              "      <td>490</td>\n",
              "      <td>1653</td>\n",
              "      <td>997498</td>\n",
              "      <td>1</td>\n",
              "      <td>4</td>\n",
              "      <td>4</td>\n",
              "    </tr>\n",
              "    <tr>\n",
              "      <th>4</th>\n",
              "      <td>298</td>\n",
              "      <td>3912</td>\n",
              "      <td>578636</td>\n",
              "      <td>1</td>\n",
              "      <td>3</td>\n",
              "      <td>3</td>\n",
              "    </tr>\n",
              "  </tbody>\n",
              "</table>\n",
              "</div>\n",
              "      <button class=\"colab-df-convert\" onclick=\"convertToInteractive('df-68a03279-0fa2-4b31-ac73-3970f8645eae')\"\n",
              "              title=\"Convert this dataframe to an interactive table.\"\n",
              "              style=\"display:none;\">\n",
              "        \n",
              "  <svg xmlns=\"http://www.w3.org/2000/svg\" height=\"24px\"viewBox=\"0 0 24 24\"\n",
              "       width=\"24px\">\n",
              "    <path d=\"M0 0h24v24H0V0z\" fill=\"none\"/>\n",
              "    <path d=\"M18.56 5.44l.94 2.06.94-2.06 2.06-.94-2.06-.94-.94-2.06-.94 2.06-2.06.94zm-11 1L8.5 8.5l.94-2.06 2.06-.94-2.06-.94L8.5 2.5l-.94 2.06-2.06.94zm10 10l.94 2.06.94-2.06 2.06-.94-2.06-.94-.94-2.06-.94 2.06-2.06.94z\"/><path d=\"M17.41 7.96l-1.37-1.37c-.4-.4-.92-.59-1.43-.59-.52 0-1.04.2-1.43.59L10.3 9.45l-7.72 7.72c-.78.78-.78 2.05 0 2.83L4 21.41c.39.39.9.59 1.41.59.51 0 1.02-.2 1.41-.59l7.78-7.78 2.81-2.81c.8-.78.8-2.07 0-2.86zM5.41 20L4 18.59l7.72-7.72 1.47 1.35L5.41 20z\"/>\n",
              "  </svg>\n",
              "      </button>\n",
              "      \n",
              "  <style>\n",
              "    .colab-df-container {\n",
              "      display:flex;\n",
              "      flex-wrap:wrap;\n",
              "      gap: 12px;\n",
              "    }\n",
              "\n",
              "    .colab-df-convert {\n",
              "      background-color: #E8F0FE;\n",
              "      border: none;\n",
              "      border-radius: 50%;\n",
              "      cursor: pointer;\n",
              "      display: none;\n",
              "      fill: #1967D2;\n",
              "      height: 32px;\n",
              "      padding: 0 0 0 0;\n",
              "      width: 32px;\n",
              "    }\n",
              "\n",
              "    .colab-df-convert:hover {\n",
              "      background-color: #E2EBFA;\n",
              "      box-shadow: 0px 1px 2px rgba(60, 64, 67, 0.3), 0px 1px 3px 1px rgba(60, 64, 67, 0.15);\n",
              "      fill: #174EA6;\n",
              "    }\n",
              "\n",
              "    [theme=dark] .colab-df-convert {\n",
              "      background-color: #3B4455;\n",
              "      fill: #D2E3FC;\n",
              "    }\n",
              "\n",
              "    [theme=dark] .colab-df-convert:hover {\n",
              "      background-color: #434B5C;\n",
              "      box-shadow: 0px 1px 3px 1px rgba(0, 0, 0, 0.15);\n",
              "      filter: drop-shadow(0px 1px 2px rgba(0, 0, 0, 0.3));\n",
              "      fill: #FFFFFF;\n",
              "    }\n",
              "  </style>\n",
              "\n",
              "      <script>\n",
              "        const buttonEl =\n",
              "          document.querySelector('#df-68a03279-0fa2-4b31-ac73-3970f8645eae button.colab-df-convert');\n",
              "        buttonEl.style.display =\n",
              "          google.colab.kernel.accessAllowed ? 'block' : 'none';\n",
              "\n",
              "        async function convertToInteractive(key) {\n",
              "          const element = document.querySelector('#df-68a03279-0fa2-4b31-ac73-3970f8645eae');\n",
              "          const dataTable =\n",
              "            await google.colab.kernel.invokeFunction('convertToInteractive',\n",
              "                                                     [key], {});\n",
              "          if (!dataTable) return;\n",
              "\n",
              "          const docLinkHtml = 'Like what you see? Visit the ' +\n",
              "            '<a target=\"_blank\" href=https://colab.research.google.com/notebooks/data_table.ipynb>data table notebook</a>'\n",
              "            + ' to learn more about interactive tables.';\n",
              "          element.innerHTML = '';\n",
              "          dataTable['output_type'] = 'display_data';\n",
              "          await google.colab.output.renderOutput(dataTable, element);\n",
              "          const docLink = document.createElement('div');\n",
              "          docLink.innerHTML = docLinkHtml;\n",
              "          element.appendChild(docLink);\n",
              "        }\n",
              "      </script>\n",
              "    </div>\n",
              "  </div>\n",
              "  "
            ]
          },
          "metadata": {},
          "execution_count": 4
        }
      ]
    },
    {
      "cell_type": "code",
      "source": [
        "answer_metadata.head()"
      ],
      "metadata": {
        "id": "YthYnsA2_T9o",
        "colab": {
          "base_uri": "https://localhost:8080/",
          "height": 206
        },
        "outputId": "064cb8c8-408d-4e6d-996e-20fbf954a137"
      },
      "execution_count": 5,
      "outputs": [
        {
          "output_type": "execute_result",
          "data": {
            "text/plain": [
              "   AnswerId             DateAnswered  Confidence  GroupId  QuizId  \\\n",
              "0   1451945  2019-10-30 14:34:00.000         NaN        4      32   \n",
              "1     45325  2020-01-06 18:53:00.000        75.0      185      66   \n",
              "2    687013  2020-01-18 10:52:00.000         NaN      235      64   \n",
              "3     91254  2020-02-29 17:25:00.000         NaN      194      97   \n",
              "4   1225855  2020-03-06 15:07:00.000         NaN       95     115   \n",
              "\n",
              "   SchemeOfWorkId  \n",
              "0         52562.0  \n",
              "1         52562.0  \n",
              "2         52562.0  \n",
              "3         52562.0  \n",
              "4         52562.0  "
            ],
            "text/html": [
              "\n",
              "  <div id=\"df-61c3ae99-0a72-45b6-b322-77d63e49600f\">\n",
              "    <div class=\"colab-df-container\">\n",
              "      <div>\n",
              "<style scoped>\n",
              "    .dataframe tbody tr th:only-of-type {\n",
              "        vertical-align: middle;\n",
              "    }\n",
              "\n",
              "    .dataframe tbody tr th {\n",
              "        vertical-align: top;\n",
              "    }\n",
              "\n",
              "    .dataframe thead th {\n",
              "        text-align: right;\n",
              "    }\n",
              "</style>\n",
              "<table border=\"1\" class=\"dataframe\">\n",
              "  <thead>\n",
              "    <tr style=\"text-align: right;\">\n",
              "      <th></th>\n",
              "      <th>AnswerId</th>\n",
              "      <th>DateAnswered</th>\n",
              "      <th>Confidence</th>\n",
              "      <th>GroupId</th>\n",
              "      <th>QuizId</th>\n",
              "      <th>SchemeOfWorkId</th>\n",
              "    </tr>\n",
              "  </thead>\n",
              "  <tbody>\n",
              "    <tr>\n",
              "      <th>0</th>\n",
              "      <td>1451945</td>\n",
              "      <td>2019-10-30 14:34:00.000</td>\n",
              "      <td>NaN</td>\n",
              "      <td>4</td>\n",
              "      <td>32</td>\n",
              "      <td>52562.0</td>\n",
              "    </tr>\n",
              "    <tr>\n",
              "      <th>1</th>\n",
              "      <td>45325</td>\n",
              "      <td>2020-01-06 18:53:00.000</td>\n",
              "      <td>75.0</td>\n",
              "      <td>185</td>\n",
              "      <td>66</td>\n",
              "      <td>52562.0</td>\n",
              "    </tr>\n",
              "    <tr>\n",
              "      <th>2</th>\n",
              "      <td>687013</td>\n",
              "      <td>2020-01-18 10:52:00.000</td>\n",
              "      <td>NaN</td>\n",
              "      <td>235</td>\n",
              "      <td>64</td>\n",
              "      <td>52562.0</td>\n",
              "    </tr>\n",
              "    <tr>\n",
              "      <th>3</th>\n",
              "      <td>91254</td>\n",
              "      <td>2020-02-29 17:25:00.000</td>\n",
              "      <td>NaN</td>\n",
              "      <td>194</td>\n",
              "      <td>97</td>\n",
              "      <td>52562.0</td>\n",
              "    </tr>\n",
              "    <tr>\n",
              "      <th>4</th>\n",
              "      <td>1225855</td>\n",
              "      <td>2020-03-06 15:07:00.000</td>\n",
              "      <td>NaN</td>\n",
              "      <td>95</td>\n",
              "      <td>115</td>\n",
              "      <td>52562.0</td>\n",
              "    </tr>\n",
              "  </tbody>\n",
              "</table>\n",
              "</div>\n",
              "      <button class=\"colab-df-convert\" onclick=\"convertToInteractive('df-61c3ae99-0a72-45b6-b322-77d63e49600f')\"\n",
              "              title=\"Convert this dataframe to an interactive table.\"\n",
              "              style=\"display:none;\">\n",
              "        \n",
              "  <svg xmlns=\"http://www.w3.org/2000/svg\" height=\"24px\"viewBox=\"0 0 24 24\"\n",
              "       width=\"24px\">\n",
              "    <path d=\"M0 0h24v24H0V0z\" fill=\"none\"/>\n",
              "    <path d=\"M18.56 5.44l.94 2.06.94-2.06 2.06-.94-2.06-.94-.94-2.06-.94 2.06-2.06.94zm-11 1L8.5 8.5l.94-2.06 2.06-.94-2.06-.94L8.5 2.5l-.94 2.06-2.06.94zm10 10l.94 2.06.94-2.06 2.06-.94-2.06-.94-.94-2.06-.94 2.06-2.06.94z\"/><path d=\"M17.41 7.96l-1.37-1.37c-.4-.4-.92-.59-1.43-.59-.52 0-1.04.2-1.43.59L10.3 9.45l-7.72 7.72c-.78.78-.78 2.05 0 2.83L4 21.41c.39.39.9.59 1.41.59.51 0 1.02-.2 1.41-.59l7.78-7.78 2.81-2.81c.8-.78.8-2.07 0-2.86zM5.41 20L4 18.59l7.72-7.72 1.47 1.35L5.41 20z\"/>\n",
              "  </svg>\n",
              "      </button>\n",
              "      \n",
              "  <style>\n",
              "    .colab-df-container {\n",
              "      display:flex;\n",
              "      flex-wrap:wrap;\n",
              "      gap: 12px;\n",
              "    }\n",
              "\n",
              "    .colab-df-convert {\n",
              "      background-color: #E8F0FE;\n",
              "      border: none;\n",
              "      border-radius: 50%;\n",
              "      cursor: pointer;\n",
              "      display: none;\n",
              "      fill: #1967D2;\n",
              "      height: 32px;\n",
              "      padding: 0 0 0 0;\n",
              "      width: 32px;\n",
              "    }\n",
              "\n",
              "    .colab-df-convert:hover {\n",
              "      background-color: #E2EBFA;\n",
              "      box-shadow: 0px 1px 2px rgba(60, 64, 67, 0.3), 0px 1px 3px 1px rgba(60, 64, 67, 0.15);\n",
              "      fill: #174EA6;\n",
              "    }\n",
              "\n",
              "    [theme=dark] .colab-df-convert {\n",
              "      background-color: #3B4455;\n",
              "      fill: #D2E3FC;\n",
              "    }\n",
              "\n",
              "    [theme=dark] .colab-df-convert:hover {\n",
              "      background-color: #434B5C;\n",
              "      box-shadow: 0px 1px 3px 1px rgba(0, 0, 0, 0.15);\n",
              "      filter: drop-shadow(0px 1px 2px rgba(0, 0, 0, 0.3));\n",
              "      fill: #FFFFFF;\n",
              "    }\n",
              "  </style>\n",
              "\n",
              "      <script>\n",
              "        const buttonEl =\n",
              "          document.querySelector('#df-61c3ae99-0a72-45b6-b322-77d63e49600f button.colab-df-convert');\n",
              "        buttonEl.style.display =\n",
              "          google.colab.kernel.accessAllowed ? 'block' : 'none';\n",
              "\n",
              "        async function convertToInteractive(key) {\n",
              "          const element = document.querySelector('#df-61c3ae99-0a72-45b6-b322-77d63e49600f');\n",
              "          const dataTable =\n",
              "            await google.colab.kernel.invokeFunction('convertToInteractive',\n",
              "                                                     [key], {});\n",
              "          if (!dataTable) return;\n",
              "\n",
              "          const docLinkHtml = 'Like what you see? Visit the ' +\n",
              "            '<a target=\"_blank\" href=https://colab.research.google.com/notebooks/data_table.ipynb>data table notebook</a>'\n",
              "            + ' to learn more about interactive tables.';\n",
              "          element.innerHTML = '';\n",
              "          dataTable['output_type'] = 'display_data';\n",
              "          await google.colab.output.renderOutput(dataTable, element);\n",
              "          const docLink = document.createElement('div');\n",
              "          docLink.innerHTML = docLinkHtml;\n",
              "          element.appendChild(docLink);\n",
              "        }\n",
              "      </script>\n",
              "    </div>\n",
              "  </div>\n",
              "  "
            ]
          },
          "metadata": {},
          "execution_count": 5
        }
      ]
    },
    {
      "cell_type": "code",
      "source": [
        "question_metadata.head()"
      ],
      "metadata": {
        "id": "_lcbnK0d_UCI",
        "colab": {
          "base_uri": "https://localhost:8080/",
          "height": 206
        },
        "outputId": "a93b6f38-95b9-430b-ed53-7153b12c9eb7"
      },
      "execution_count": 6,
      "outputs": [
        {
          "output_type": "execute_result",
          "data": {
            "text/plain": [
              "   QuestionId         SubjectId\n",
              "0         684  [3, 71, 98, 209]\n",
              "1          87  [3, 71, 98, 209]\n",
              "2         679  [3, 71, 98, 209]\n",
              "3         685  [3, 71, 98, 209]\n",
              "4         222  [3, 71, 98, 209]"
            ],
            "text/html": [
              "\n",
              "  <div id=\"df-a3df3540-50a3-4fe4-8bf7-0052358a4d27\">\n",
              "    <div class=\"colab-df-container\">\n",
              "      <div>\n",
              "<style scoped>\n",
              "    .dataframe tbody tr th:only-of-type {\n",
              "        vertical-align: middle;\n",
              "    }\n",
              "\n",
              "    .dataframe tbody tr th {\n",
              "        vertical-align: top;\n",
              "    }\n",
              "\n",
              "    .dataframe thead th {\n",
              "        text-align: right;\n",
              "    }\n",
              "</style>\n",
              "<table border=\"1\" class=\"dataframe\">\n",
              "  <thead>\n",
              "    <tr style=\"text-align: right;\">\n",
              "      <th></th>\n",
              "      <th>QuestionId</th>\n",
              "      <th>SubjectId</th>\n",
              "    </tr>\n",
              "  </thead>\n",
              "  <tbody>\n",
              "    <tr>\n",
              "      <th>0</th>\n",
              "      <td>684</td>\n",
              "      <td>[3, 71, 98, 209]</td>\n",
              "    </tr>\n",
              "    <tr>\n",
              "      <th>1</th>\n",
              "      <td>87</td>\n",
              "      <td>[3, 71, 98, 209]</td>\n",
              "    </tr>\n",
              "    <tr>\n",
              "      <th>2</th>\n",
              "      <td>679</td>\n",
              "      <td>[3, 71, 98, 209]</td>\n",
              "    </tr>\n",
              "    <tr>\n",
              "      <th>3</th>\n",
              "      <td>685</td>\n",
              "      <td>[3, 71, 98, 209]</td>\n",
              "    </tr>\n",
              "    <tr>\n",
              "      <th>4</th>\n",
              "      <td>222</td>\n",
              "      <td>[3, 71, 98, 209]</td>\n",
              "    </tr>\n",
              "  </tbody>\n",
              "</table>\n",
              "</div>\n",
              "      <button class=\"colab-df-convert\" onclick=\"convertToInteractive('df-a3df3540-50a3-4fe4-8bf7-0052358a4d27')\"\n",
              "              title=\"Convert this dataframe to an interactive table.\"\n",
              "              style=\"display:none;\">\n",
              "        \n",
              "  <svg xmlns=\"http://www.w3.org/2000/svg\" height=\"24px\"viewBox=\"0 0 24 24\"\n",
              "       width=\"24px\">\n",
              "    <path d=\"M0 0h24v24H0V0z\" fill=\"none\"/>\n",
              "    <path d=\"M18.56 5.44l.94 2.06.94-2.06 2.06-.94-2.06-.94-.94-2.06-.94 2.06-2.06.94zm-11 1L8.5 8.5l.94-2.06 2.06-.94-2.06-.94L8.5 2.5l-.94 2.06-2.06.94zm10 10l.94 2.06.94-2.06 2.06-.94-2.06-.94-.94-2.06-.94 2.06-2.06.94z\"/><path d=\"M17.41 7.96l-1.37-1.37c-.4-.4-.92-.59-1.43-.59-.52 0-1.04.2-1.43.59L10.3 9.45l-7.72 7.72c-.78.78-.78 2.05 0 2.83L4 21.41c.39.39.9.59 1.41.59.51 0 1.02-.2 1.41-.59l7.78-7.78 2.81-2.81c.8-.78.8-2.07 0-2.86zM5.41 20L4 18.59l7.72-7.72 1.47 1.35L5.41 20z\"/>\n",
              "  </svg>\n",
              "      </button>\n",
              "      \n",
              "  <style>\n",
              "    .colab-df-container {\n",
              "      display:flex;\n",
              "      flex-wrap:wrap;\n",
              "      gap: 12px;\n",
              "    }\n",
              "\n",
              "    .colab-df-convert {\n",
              "      background-color: #E8F0FE;\n",
              "      border: none;\n",
              "      border-radius: 50%;\n",
              "      cursor: pointer;\n",
              "      display: none;\n",
              "      fill: #1967D2;\n",
              "      height: 32px;\n",
              "      padding: 0 0 0 0;\n",
              "      width: 32px;\n",
              "    }\n",
              "\n",
              "    .colab-df-convert:hover {\n",
              "      background-color: #E2EBFA;\n",
              "      box-shadow: 0px 1px 2px rgba(60, 64, 67, 0.3), 0px 1px 3px 1px rgba(60, 64, 67, 0.15);\n",
              "      fill: #174EA6;\n",
              "    }\n",
              "\n",
              "    [theme=dark] .colab-df-convert {\n",
              "      background-color: #3B4455;\n",
              "      fill: #D2E3FC;\n",
              "    }\n",
              "\n",
              "    [theme=dark] .colab-df-convert:hover {\n",
              "      background-color: #434B5C;\n",
              "      box-shadow: 0px 1px 3px 1px rgba(0, 0, 0, 0.15);\n",
              "      filter: drop-shadow(0px 1px 2px rgba(0, 0, 0, 0.3));\n",
              "      fill: #FFFFFF;\n",
              "    }\n",
              "  </style>\n",
              "\n",
              "      <script>\n",
              "        const buttonEl =\n",
              "          document.querySelector('#df-a3df3540-50a3-4fe4-8bf7-0052358a4d27 button.colab-df-convert');\n",
              "        buttonEl.style.display =\n",
              "          google.colab.kernel.accessAllowed ? 'block' : 'none';\n",
              "\n",
              "        async function convertToInteractive(key) {\n",
              "          const element = document.querySelector('#df-a3df3540-50a3-4fe4-8bf7-0052358a4d27');\n",
              "          const dataTable =\n",
              "            await google.colab.kernel.invokeFunction('convertToInteractive',\n",
              "                                                     [key], {});\n",
              "          if (!dataTable) return;\n",
              "\n",
              "          const docLinkHtml = 'Like what you see? Visit the ' +\n",
              "            '<a target=\"_blank\" href=https://colab.research.google.com/notebooks/data_table.ipynb>data table notebook</a>'\n",
              "            + ' to learn more about interactive tables.';\n",
              "          element.innerHTML = '';\n",
              "          dataTable['output_type'] = 'display_data';\n",
              "          await google.colab.output.renderOutput(dataTable, element);\n",
              "          const docLink = document.createElement('div');\n",
              "          docLink.innerHTML = docLinkHtml;\n",
              "          element.appendChild(docLink);\n",
              "        }\n",
              "      </script>\n",
              "    </div>\n",
              "  </div>\n",
              "  "
            ]
          },
          "metadata": {},
          "execution_count": 6
        }
      ]
    },
    {
      "cell_type": "code",
      "source": [
        "student_metadata.head()"
      ],
      "metadata": {
        "id": "-0j5eg_V_UFn",
        "colab": {
          "base_uri": "https://localhost:8080/",
          "height": 206
        },
        "outputId": "8f58b80e-d175-4433-e0d0-cc479a4717ca"
      },
      "execution_count": 7,
      "outputs": [
        {
          "output_type": "execute_result",
          "data": {
            "text/plain": [
              "   UserId  Gender              DateOfBirth  PremiumPupil\n",
              "0    3837       2  2007-10-01 00:00:00.000           0.0\n",
              "1     207       0                      NaN           NaN\n",
              "2    3581       2  2008-03-01 00:00:00.000           0.0\n",
              "3    6028       2  2008-01-01 00:00:00.000           0.0\n",
              "4    1451       0                      NaN           NaN"
            ],
            "text/html": [
              "\n",
              "  <div id=\"df-8f42f843-497f-4c94-a750-4ba7c4e4a9fd\">\n",
              "    <div class=\"colab-df-container\">\n",
              "      <div>\n",
              "<style scoped>\n",
              "    .dataframe tbody tr th:only-of-type {\n",
              "        vertical-align: middle;\n",
              "    }\n",
              "\n",
              "    .dataframe tbody tr th {\n",
              "        vertical-align: top;\n",
              "    }\n",
              "\n",
              "    .dataframe thead th {\n",
              "        text-align: right;\n",
              "    }\n",
              "</style>\n",
              "<table border=\"1\" class=\"dataframe\">\n",
              "  <thead>\n",
              "    <tr style=\"text-align: right;\">\n",
              "      <th></th>\n",
              "      <th>UserId</th>\n",
              "      <th>Gender</th>\n",
              "      <th>DateOfBirth</th>\n",
              "      <th>PremiumPupil</th>\n",
              "    </tr>\n",
              "  </thead>\n",
              "  <tbody>\n",
              "    <tr>\n",
              "      <th>0</th>\n",
              "      <td>3837</td>\n",
              "      <td>2</td>\n",
              "      <td>2007-10-01 00:00:00.000</td>\n",
              "      <td>0.0</td>\n",
              "    </tr>\n",
              "    <tr>\n",
              "      <th>1</th>\n",
              "      <td>207</td>\n",
              "      <td>0</td>\n",
              "      <td>NaN</td>\n",
              "      <td>NaN</td>\n",
              "    </tr>\n",
              "    <tr>\n",
              "      <th>2</th>\n",
              "      <td>3581</td>\n",
              "      <td>2</td>\n",
              "      <td>2008-03-01 00:00:00.000</td>\n",
              "      <td>0.0</td>\n",
              "    </tr>\n",
              "    <tr>\n",
              "      <th>3</th>\n",
              "      <td>6028</td>\n",
              "      <td>2</td>\n",
              "      <td>2008-01-01 00:00:00.000</td>\n",
              "      <td>0.0</td>\n",
              "    </tr>\n",
              "    <tr>\n",
              "      <th>4</th>\n",
              "      <td>1451</td>\n",
              "      <td>0</td>\n",
              "      <td>NaN</td>\n",
              "      <td>NaN</td>\n",
              "    </tr>\n",
              "  </tbody>\n",
              "</table>\n",
              "</div>\n",
              "      <button class=\"colab-df-convert\" onclick=\"convertToInteractive('df-8f42f843-497f-4c94-a750-4ba7c4e4a9fd')\"\n",
              "              title=\"Convert this dataframe to an interactive table.\"\n",
              "              style=\"display:none;\">\n",
              "        \n",
              "  <svg xmlns=\"http://www.w3.org/2000/svg\" height=\"24px\"viewBox=\"0 0 24 24\"\n",
              "       width=\"24px\">\n",
              "    <path d=\"M0 0h24v24H0V0z\" fill=\"none\"/>\n",
              "    <path d=\"M18.56 5.44l.94 2.06.94-2.06 2.06-.94-2.06-.94-.94-2.06-.94 2.06-2.06.94zm-11 1L8.5 8.5l.94-2.06 2.06-.94-2.06-.94L8.5 2.5l-.94 2.06-2.06.94zm10 10l.94 2.06.94-2.06 2.06-.94-2.06-.94-.94-2.06-.94 2.06-2.06.94z\"/><path d=\"M17.41 7.96l-1.37-1.37c-.4-.4-.92-.59-1.43-.59-.52 0-1.04.2-1.43.59L10.3 9.45l-7.72 7.72c-.78.78-.78 2.05 0 2.83L4 21.41c.39.39.9.59 1.41.59.51 0 1.02-.2 1.41-.59l7.78-7.78 2.81-2.81c.8-.78.8-2.07 0-2.86zM5.41 20L4 18.59l7.72-7.72 1.47 1.35L5.41 20z\"/>\n",
              "  </svg>\n",
              "      </button>\n",
              "      \n",
              "  <style>\n",
              "    .colab-df-container {\n",
              "      display:flex;\n",
              "      flex-wrap:wrap;\n",
              "      gap: 12px;\n",
              "    }\n",
              "\n",
              "    .colab-df-convert {\n",
              "      background-color: #E8F0FE;\n",
              "      border: none;\n",
              "      border-radius: 50%;\n",
              "      cursor: pointer;\n",
              "      display: none;\n",
              "      fill: #1967D2;\n",
              "      height: 32px;\n",
              "      padding: 0 0 0 0;\n",
              "      width: 32px;\n",
              "    }\n",
              "\n",
              "    .colab-df-convert:hover {\n",
              "      background-color: #E2EBFA;\n",
              "      box-shadow: 0px 1px 2px rgba(60, 64, 67, 0.3), 0px 1px 3px 1px rgba(60, 64, 67, 0.15);\n",
              "      fill: #174EA6;\n",
              "    }\n",
              "\n",
              "    [theme=dark] .colab-df-convert {\n",
              "      background-color: #3B4455;\n",
              "      fill: #D2E3FC;\n",
              "    }\n",
              "\n",
              "    [theme=dark] .colab-df-convert:hover {\n",
              "      background-color: #434B5C;\n",
              "      box-shadow: 0px 1px 3px 1px rgba(0, 0, 0, 0.15);\n",
              "      filter: drop-shadow(0px 1px 2px rgba(0, 0, 0, 0.3));\n",
              "      fill: #FFFFFF;\n",
              "    }\n",
              "  </style>\n",
              "\n",
              "      <script>\n",
              "        const buttonEl =\n",
              "          document.querySelector('#df-8f42f843-497f-4c94-a750-4ba7c4e4a9fd button.colab-df-convert');\n",
              "        buttonEl.style.display =\n",
              "          google.colab.kernel.accessAllowed ? 'block' : 'none';\n",
              "\n",
              "        async function convertToInteractive(key) {\n",
              "          const element = document.querySelector('#df-8f42f843-497f-4c94-a750-4ba7c4e4a9fd');\n",
              "          const dataTable =\n",
              "            await google.colab.kernel.invokeFunction('convertToInteractive',\n",
              "                                                     [key], {});\n",
              "          if (!dataTable) return;\n",
              "\n",
              "          const docLinkHtml = 'Like what you see? Visit the ' +\n",
              "            '<a target=\"_blank\" href=https://colab.research.google.com/notebooks/data_table.ipynb>data table notebook</a>'\n",
              "            + ' to learn more about interactive tables.';\n",
              "          element.innerHTML = '';\n",
              "          dataTable['output_type'] = 'display_data';\n",
              "          await google.colab.output.renderOutput(dataTable, element);\n",
              "          const docLink = document.createElement('div');\n",
              "          docLink.innerHTML = docLinkHtml;\n",
              "          element.appendChild(docLink);\n",
              "        }\n",
              "      </script>\n",
              "    </div>\n",
              "  </div>\n",
              "  "
            ]
          },
          "metadata": {},
          "execution_count": 7
        }
      ]
    },
    {
      "cell_type": "code",
      "source": [
        "subject_metadata.head()"
      ],
      "metadata": {
        "id": "hmov4S5D_UIU",
        "colab": {
          "base_uri": "https://localhost:8080/",
          "height": 206
        },
        "outputId": "4556a4d6-ed9e-4923-fa63-eaa7b5e77784"
      },
      "execution_count": 8,
      "outputs": [
        {
          "output_type": "execute_result",
          "data": {
            "text/plain": [
              "   SubjectId                    Name  ParentId  Level\n",
              "0          3                   Maths       NaN      0\n",
              "1         32                  Number       3.0      1\n",
              "2         33                  BIDMAS     144.0      3\n",
              "3         34  Upper and Lower Bounds     141.0      3\n",
              "4         35          Calculator Use      32.0      2"
            ],
            "text/html": [
              "\n",
              "  <div id=\"df-9c3a5e86-0d72-49d8-ba9c-cecdb99d0394\">\n",
              "    <div class=\"colab-df-container\">\n",
              "      <div>\n",
              "<style scoped>\n",
              "    .dataframe tbody tr th:only-of-type {\n",
              "        vertical-align: middle;\n",
              "    }\n",
              "\n",
              "    .dataframe tbody tr th {\n",
              "        vertical-align: top;\n",
              "    }\n",
              "\n",
              "    .dataframe thead th {\n",
              "        text-align: right;\n",
              "    }\n",
              "</style>\n",
              "<table border=\"1\" class=\"dataframe\">\n",
              "  <thead>\n",
              "    <tr style=\"text-align: right;\">\n",
              "      <th></th>\n",
              "      <th>SubjectId</th>\n",
              "      <th>Name</th>\n",
              "      <th>ParentId</th>\n",
              "      <th>Level</th>\n",
              "    </tr>\n",
              "  </thead>\n",
              "  <tbody>\n",
              "    <tr>\n",
              "      <th>0</th>\n",
              "      <td>3</td>\n",
              "      <td>Maths</td>\n",
              "      <td>NaN</td>\n",
              "      <td>0</td>\n",
              "    </tr>\n",
              "    <tr>\n",
              "      <th>1</th>\n",
              "      <td>32</td>\n",
              "      <td>Number</td>\n",
              "      <td>3.0</td>\n",
              "      <td>1</td>\n",
              "    </tr>\n",
              "    <tr>\n",
              "      <th>2</th>\n",
              "      <td>33</td>\n",
              "      <td>BIDMAS</td>\n",
              "      <td>144.0</td>\n",
              "      <td>3</td>\n",
              "    </tr>\n",
              "    <tr>\n",
              "      <th>3</th>\n",
              "      <td>34</td>\n",
              "      <td>Upper and Lower Bounds</td>\n",
              "      <td>141.0</td>\n",
              "      <td>3</td>\n",
              "    </tr>\n",
              "    <tr>\n",
              "      <th>4</th>\n",
              "      <td>35</td>\n",
              "      <td>Calculator Use</td>\n",
              "      <td>32.0</td>\n",
              "      <td>2</td>\n",
              "    </tr>\n",
              "  </tbody>\n",
              "</table>\n",
              "</div>\n",
              "      <button class=\"colab-df-convert\" onclick=\"convertToInteractive('df-9c3a5e86-0d72-49d8-ba9c-cecdb99d0394')\"\n",
              "              title=\"Convert this dataframe to an interactive table.\"\n",
              "              style=\"display:none;\">\n",
              "        \n",
              "  <svg xmlns=\"http://www.w3.org/2000/svg\" height=\"24px\"viewBox=\"0 0 24 24\"\n",
              "       width=\"24px\">\n",
              "    <path d=\"M0 0h24v24H0V0z\" fill=\"none\"/>\n",
              "    <path d=\"M18.56 5.44l.94 2.06.94-2.06 2.06-.94-2.06-.94-.94-2.06-.94 2.06-2.06.94zm-11 1L8.5 8.5l.94-2.06 2.06-.94-2.06-.94L8.5 2.5l-.94 2.06-2.06.94zm10 10l.94 2.06.94-2.06 2.06-.94-2.06-.94-.94-2.06-.94 2.06-2.06.94z\"/><path d=\"M17.41 7.96l-1.37-1.37c-.4-.4-.92-.59-1.43-.59-.52 0-1.04.2-1.43.59L10.3 9.45l-7.72 7.72c-.78.78-.78 2.05 0 2.83L4 21.41c.39.39.9.59 1.41.59.51 0 1.02-.2 1.41-.59l7.78-7.78 2.81-2.81c.8-.78.8-2.07 0-2.86zM5.41 20L4 18.59l7.72-7.72 1.47 1.35L5.41 20z\"/>\n",
              "  </svg>\n",
              "      </button>\n",
              "      \n",
              "  <style>\n",
              "    .colab-df-container {\n",
              "      display:flex;\n",
              "      flex-wrap:wrap;\n",
              "      gap: 12px;\n",
              "    }\n",
              "\n",
              "    .colab-df-convert {\n",
              "      background-color: #E8F0FE;\n",
              "      border: none;\n",
              "      border-radius: 50%;\n",
              "      cursor: pointer;\n",
              "      display: none;\n",
              "      fill: #1967D2;\n",
              "      height: 32px;\n",
              "      padding: 0 0 0 0;\n",
              "      width: 32px;\n",
              "    }\n",
              "\n",
              "    .colab-df-convert:hover {\n",
              "      background-color: #E2EBFA;\n",
              "      box-shadow: 0px 1px 2px rgba(60, 64, 67, 0.3), 0px 1px 3px 1px rgba(60, 64, 67, 0.15);\n",
              "      fill: #174EA6;\n",
              "    }\n",
              "\n",
              "    [theme=dark] .colab-df-convert {\n",
              "      background-color: #3B4455;\n",
              "      fill: #D2E3FC;\n",
              "    }\n",
              "\n",
              "    [theme=dark] .colab-df-convert:hover {\n",
              "      background-color: #434B5C;\n",
              "      box-shadow: 0px 1px 3px 1px rgba(0, 0, 0, 0.15);\n",
              "      filter: drop-shadow(0px 1px 2px rgba(0, 0, 0, 0.3));\n",
              "      fill: #FFFFFF;\n",
              "    }\n",
              "  </style>\n",
              "\n",
              "      <script>\n",
              "        const buttonEl =\n",
              "          document.querySelector('#df-9c3a5e86-0d72-49d8-ba9c-cecdb99d0394 button.colab-df-convert');\n",
              "        buttonEl.style.display =\n",
              "          google.colab.kernel.accessAllowed ? 'block' : 'none';\n",
              "\n",
              "        async function convertToInteractive(key) {\n",
              "          const element = document.querySelector('#df-9c3a5e86-0d72-49d8-ba9c-cecdb99d0394');\n",
              "          const dataTable =\n",
              "            await google.colab.kernel.invokeFunction('convertToInteractive',\n",
              "                                                     [key], {});\n",
              "          if (!dataTable) return;\n",
              "\n",
              "          const docLinkHtml = 'Like what you see? Visit the ' +\n",
              "            '<a target=\"_blank\" href=https://colab.research.google.com/notebooks/data_table.ipynb>data table notebook</a>'\n",
              "            + ' to learn more about interactive tables.';\n",
              "          element.innerHTML = '';\n",
              "          dataTable['output_type'] = 'display_data';\n",
              "          await google.colab.output.renderOutput(dataTable, element);\n",
              "          const docLink = document.createElement('div');\n",
              "          docLink.innerHTML = docLinkHtml;\n",
              "          element.appendChild(docLink);\n",
              "        }\n",
              "      </script>\n",
              "    </div>\n",
              "  </div>\n",
              "  "
            ]
          },
          "metadata": {},
          "execution_count": 8
        }
      ]
    },
    {
      "cell_type": "markdown",
      "source": [
        "# Calculate students' feature values for clustering them"
      ],
      "metadata": {
        "id": "au6mcA4Fl7KZ"
      }
    },
    {
      "cell_type": "code",
      "source": [
        "# Intergrate and group answer information for each students(users).\n",
        "answer_integrated = pd.merge(answer_correct_data, answer_metadata, 'inner', 'AnswerId')\n",
        "answer_integrated_user_group = answer_integrated.groupby('UserId')"
      ],
      "metadata": {
        "id": "vGuce60jl9hQ"
      },
      "execution_count": 9,
      "outputs": []
    },
    {
      "cell_type": "code",
      "source": [
        "# Calculate mean correct rate, mean confidence and the amount of solved questions for each student.\n",
        "student_solve_info = pd.DataFrame(columns=['SolvedCount', 'CorrectRate', 'MeanConfidence'])\n",
        "student_solve_info[['CorrectRate', 'MeanConfidence']] = answer_integrated_user_group.mean()[['IsCorrect', 'Confidence']]\n",
        "student_solve_info['SolvedCount'] = answer_integrated_user_group.size()"
      ],
      "metadata": {
        "colab": {
          "base_uri": "https://localhost:8080/"
        },
        "id": "MBxumo6_mZBv",
        "outputId": "ee46efac-c1a2-49e3-8916-9295c4fd0c7e"
      },
      "execution_count": 10,
      "outputs": [
        {
          "output_type": "stream",
          "name": "stderr",
          "text": [
            "<ipython-input-10-eda47f2e1434>:3: FutureWarning: The default value of numeric_only in DataFrameGroupBy.mean is deprecated. In a future version, numeric_only will default to False. Either specify numeric_only or select only columns which should be valid for the function.\n",
            "  student_solve_info[['CorrectRate', 'MeanConfidence']] = answer_integrated_user_group.mean()[['IsCorrect', 'Confidence']]\n"
          ]
        }
      ]
    },
    {
      "cell_type": "code",
      "source": [
        "# Put UserId as dataframe's column. (Userid was the index of the dataframe)\n",
        "student_solve_info.reset_index(inplace=True)"
      ],
      "metadata": {
        "id": "8N07NRtvnmhc"
      },
      "execution_count": 11,
      "outputs": []
    },
    {
      "cell_type": "code",
      "source": [
        "# Exclude the students who solved less than 50 questions.\n",
        "student_solve_info = student_solve_info[student_solve_info['SolvedCount'] >= 50]"
      ],
      "metadata": {
        "id": "xv4dkj1Rny5G"
      },
      "execution_count": 12,
      "outputs": []
    },
    {
      "cell_type": "code",
      "source": [
        "# Exclude rows with NaN value.\n",
        "student_solve_info.isnull().sum() # 634 rows with NaN\n",
        "student_solve_info.dropna(axis='index', inplace=True)"
      ],
      "metadata": {
        "id": "GnxVtMqtn6an"
      },
      "execution_count": 13,
      "outputs": []
    },
    {
      "cell_type": "code",
      "source": [
        "# Perform feature scaling for students' features before clustering.\n",
        "from sklearn.preprocessing import MinMaxScaler\n",
        "scaler = MinMaxScaler()\n",
        "student_solve_info_scaled = scaler.fit_transform(student_solve_info, y=None)\n",
        "student_solve_info_scaled = pd.DataFrame(student_solve_info_scaled, index=student_solve_info.index, columns=student_solve_info.columns)\n",
        "student_solve_info_scaled[['UserId', 'SolvedCount']] = student_solve_info[['UserId', 'SolvedCount']] # restore UserId and SolvedCount column values.\n",
        "student_solve_info_scaled.describe()"
      ],
      "metadata": {
        "colab": {
          "base_uri": "https://localhost:8080/",
          "height": 300
        },
        "id": "r07DNLA8ouud",
        "outputId": "193b85ea-c5ad-43c0-bfec-b115e13143ab"
      },
      "execution_count": 14,
      "outputs": [
        {
          "output_type": "execute_result",
          "data": {
            "text/plain": [
              "            UserId  SolvedCount  CorrectRate  MeanConfidence\n",
              "count  4284.000000  4284.000000  4284.000000     4284.000000\n",
              "mean   3041.310924   298.353408     0.439819        0.691973\n",
              "std    1780.296043   182.108883     0.215910        0.219878\n",
              "min       1.000000    50.000000     0.000000        0.000000\n",
              "25%    1501.500000   144.000000     0.270150        0.562228\n",
              "50%    3004.500000   259.000000     0.430894        0.729919\n",
              "75%    4591.250000   443.250000     0.590602        0.858696\n",
              "max    6147.000000   827.000000     1.000000        1.000000"
            ],
            "text/html": [
              "\n",
              "  <div id=\"df-cb751519-4411-475e-948d-afeb26dd3b06\">\n",
              "    <div class=\"colab-df-container\">\n",
              "      <div>\n",
              "<style scoped>\n",
              "    .dataframe tbody tr th:only-of-type {\n",
              "        vertical-align: middle;\n",
              "    }\n",
              "\n",
              "    .dataframe tbody tr th {\n",
              "        vertical-align: top;\n",
              "    }\n",
              "\n",
              "    .dataframe thead th {\n",
              "        text-align: right;\n",
              "    }\n",
              "</style>\n",
              "<table border=\"1\" class=\"dataframe\">\n",
              "  <thead>\n",
              "    <tr style=\"text-align: right;\">\n",
              "      <th></th>\n",
              "      <th>UserId</th>\n",
              "      <th>SolvedCount</th>\n",
              "      <th>CorrectRate</th>\n",
              "      <th>MeanConfidence</th>\n",
              "    </tr>\n",
              "  </thead>\n",
              "  <tbody>\n",
              "    <tr>\n",
              "      <th>count</th>\n",
              "      <td>4284.000000</td>\n",
              "      <td>4284.000000</td>\n",
              "      <td>4284.000000</td>\n",
              "      <td>4284.000000</td>\n",
              "    </tr>\n",
              "    <tr>\n",
              "      <th>mean</th>\n",
              "      <td>3041.310924</td>\n",
              "      <td>298.353408</td>\n",
              "      <td>0.439819</td>\n",
              "      <td>0.691973</td>\n",
              "    </tr>\n",
              "    <tr>\n",
              "      <th>std</th>\n",
              "      <td>1780.296043</td>\n",
              "      <td>182.108883</td>\n",
              "      <td>0.215910</td>\n",
              "      <td>0.219878</td>\n",
              "    </tr>\n",
              "    <tr>\n",
              "      <th>min</th>\n",
              "      <td>1.000000</td>\n",
              "      <td>50.000000</td>\n",
              "      <td>0.000000</td>\n",
              "      <td>0.000000</td>\n",
              "    </tr>\n",
              "    <tr>\n",
              "      <th>25%</th>\n",
              "      <td>1501.500000</td>\n",
              "      <td>144.000000</td>\n",
              "      <td>0.270150</td>\n",
              "      <td>0.562228</td>\n",
              "    </tr>\n",
              "    <tr>\n",
              "      <th>50%</th>\n",
              "      <td>3004.500000</td>\n",
              "      <td>259.000000</td>\n",
              "      <td>0.430894</td>\n",
              "      <td>0.729919</td>\n",
              "    </tr>\n",
              "    <tr>\n",
              "      <th>75%</th>\n",
              "      <td>4591.250000</td>\n",
              "      <td>443.250000</td>\n",
              "      <td>0.590602</td>\n",
              "      <td>0.858696</td>\n",
              "    </tr>\n",
              "    <tr>\n",
              "      <th>max</th>\n",
              "      <td>6147.000000</td>\n",
              "      <td>827.000000</td>\n",
              "      <td>1.000000</td>\n",
              "      <td>1.000000</td>\n",
              "    </tr>\n",
              "  </tbody>\n",
              "</table>\n",
              "</div>\n",
              "      <button class=\"colab-df-convert\" onclick=\"convertToInteractive('df-cb751519-4411-475e-948d-afeb26dd3b06')\"\n",
              "              title=\"Convert this dataframe to an interactive table.\"\n",
              "              style=\"display:none;\">\n",
              "        \n",
              "  <svg xmlns=\"http://www.w3.org/2000/svg\" height=\"24px\"viewBox=\"0 0 24 24\"\n",
              "       width=\"24px\">\n",
              "    <path d=\"M0 0h24v24H0V0z\" fill=\"none\"/>\n",
              "    <path d=\"M18.56 5.44l.94 2.06.94-2.06 2.06-.94-2.06-.94-.94-2.06-.94 2.06-2.06.94zm-11 1L8.5 8.5l.94-2.06 2.06-.94-2.06-.94L8.5 2.5l-.94 2.06-2.06.94zm10 10l.94 2.06.94-2.06 2.06-.94-2.06-.94-.94-2.06-.94 2.06-2.06.94z\"/><path d=\"M17.41 7.96l-1.37-1.37c-.4-.4-.92-.59-1.43-.59-.52 0-1.04.2-1.43.59L10.3 9.45l-7.72 7.72c-.78.78-.78 2.05 0 2.83L4 21.41c.39.39.9.59 1.41.59.51 0 1.02-.2 1.41-.59l7.78-7.78 2.81-2.81c.8-.78.8-2.07 0-2.86zM5.41 20L4 18.59l7.72-7.72 1.47 1.35L5.41 20z\"/>\n",
              "  </svg>\n",
              "      </button>\n",
              "      \n",
              "  <style>\n",
              "    .colab-df-container {\n",
              "      display:flex;\n",
              "      flex-wrap:wrap;\n",
              "      gap: 12px;\n",
              "    }\n",
              "\n",
              "    .colab-df-convert {\n",
              "      background-color: #E8F0FE;\n",
              "      border: none;\n",
              "      border-radius: 50%;\n",
              "      cursor: pointer;\n",
              "      display: none;\n",
              "      fill: #1967D2;\n",
              "      height: 32px;\n",
              "      padding: 0 0 0 0;\n",
              "      width: 32px;\n",
              "    }\n",
              "\n",
              "    .colab-df-convert:hover {\n",
              "      background-color: #E2EBFA;\n",
              "      box-shadow: 0px 1px 2px rgba(60, 64, 67, 0.3), 0px 1px 3px 1px rgba(60, 64, 67, 0.15);\n",
              "      fill: #174EA6;\n",
              "    }\n",
              "\n",
              "    [theme=dark] .colab-df-convert {\n",
              "      background-color: #3B4455;\n",
              "      fill: #D2E3FC;\n",
              "    }\n",
              "\n",
              "    [theme=dark] .colab-df-convert:hover {\n",
              "      background-color: #434B5C;\n",
              "      box-shadow: 0px 1px 3px 1px rgba(0, 0, 0, 0.15);\n",
              "      filter: drop-shadow(0px 1px 2px rgba(0, 0, 0, 0.3));\n",
              "      fill: #FFFFFF;\n",
              "    }\n",
              "  </style>\n",
              "\n",
              "      <script>\n",
              "        const buttonEl =\n",
              "          document.querySelector('#df-cb751519-4411-475e-948d-afeb26dd3b06 button.colab-df-convert');\n",
              "        buttonEl.style.display =\n",
              "          google.colab.kernel.accessAllowed ? 'block' : 'none';\n",
              "\n",
              "        async function convertToInteractive(key) {\n",
              "          const element = document.querySelector('#df-cb751519-4411-475e-948d-afeb26dd3b06');\n",
              "          const dataTable =\n",
              "            await google.colab.kernel.invokeFunction('convertToInteractive',\n",
              "                                                     [key], {});\n",
              "          if (!dataTable) return;\n",
              "\n",
              "          const docLinkHtml = 'Like what you see? Visit the ' +\n",
              "            '<a target=\"_blank\" href=https://colab.research.google.com/notebooks/data_table.ipynb>data table notebook</a>'\n",
              "            + ' to learn more about interactive tables.';\n",
              "          element.innerHTML = '';\n",
              "          dataTable['output_type'] = 'display_data';\n",
              "          await google.colab.output.renderOutput(dataTable, element);\n",
              "          const docLink = document.createElement('div');\n",
              "          docLink.innerHTML = docLinkHtml;\n",
              "          element.appendChild(docLink);\n",
              "        }\n",
              "      </script>\n",
              "    </div>\n",
              "  </div>\n",
              "  "
            ]
          },
          "metadata": {},
          "execution_count": 14
        }
      ]
    },
    {
      "cell_type": "markdown",
      "source": [
        "#Using Clustering, Divide students by their academic achievement level"
      ],
      "metadata": {
        "id": "81J6kiZ_oCQA"
      }
    },
    {
      "cell_type": "code",
      "source": [
        "from sklearn.cluster import KMeans\n",
        "kmeans = KMeans(n_clusters=2, random_state=1)\n",
        "student_solve_info_scaled['AchievementGroup'] = kmeans.fit_predict(student_solve_info_scaled.drop(columns=['UserId', 'SolvedCount'], inplace=False))"
      ],
      "metadata": {
        "colab": {
          "base_uri": "https://localhost:8080/"
        },
        "id": "13gEGchvonPS",
        "outputId": "7be66cae-8994-4326-e0cc-0ae2a46c2028"
      },
      "execution_count": 15,
      "outputs": [
        {
          "output_type": "stream",
          "name": "stderr",
          "text": [
            "/usr/local/lib/python3.10/dist-packages/sklearn/cluster/_kmeans.py:870: FutureWarning: The default value of `n_init` will change from 10 to 'auto' in 1.4. Set the value of `n_init` explicitly to suppress the warning\n",
            "  warnings.warn(\n"
          ]
        }
      ]
    },
    {
      "cell_type": "code",
      "source": [
        "# Check which acheivement group has higher academic achievement level\n",
        "print(kmeans.cluster_centers_, '\\n')\n",
        "print('[Group 0\\'s mean values]\\n', student_solve_info_scaled[student_solve_info_scaled['AchievementGroup'] == 0][['CorrectRate', 'MeanConfidence']].mean(), '\\n')\n",
        "print('[Group 1\\'s mean values]\\n', student_solve_info_scaled[student_solve_info_scaled['AchievementGroup'] == 1][['CorrectRate', 'MeanConfidence']].mean(), '\\n')"
      ],
      "metadata": {
        "colab": {
          "base_uri": "https://localhost:8080/"
        },
        "id": "VRjDvMNOo8-5",
        "outputId": "6fd255c8-cc9e-4e92-e2a9-f1d3ce038d8e"
      },
      "execution_count": 16,
      "outputs": [
        {
          "output_type": "stream",
          "name": "stdout",
          "text": [
            "[[0.58499053 0.83235406]\n",
            " [0.29010369 0.54719898]] \n",
            "\n",
            "[Group 0's mean values]\n",
            " CorrectRate       0.585214\n",
            "MeanConfidence    0.831452\n",
            "dtype: float64 \n",
            "\n",
            "[Group 1's mean values]\n",
            " CorrectRate       0.289172\n",
            "MeanConfidence    0.547456\n",
            "dtype: float64 \n",
            "\n"
          ]
        }
      ]
    },
    {
      "cell_type": "markdown",
      "source": [
        "Achievement group 0 has higher value in both CorrectRate and MeanConfidence.\n",
        "Thus, We can say that achievement group 0 is the upper academic achievement group, and group 1 is the lower academic achievement group."
      ],
      "metadata": {
        "id": "oX5DvXWzpNhm"
      }
    },
    {
      "cell_type": "markdown",
      "source": [
        "# Compute mean confidence of each question seperately for two achievement groups"
      ],
      "metadata": {
        "id": "YgdnDTRopXkE"
      }
    },
    {
      "cell_type": "code",
      "source": [
        "# Integrate the achievement group information to the answer data\n",
        "answer_integrated = pd.merge(answer_integrated, student_solve_info_scaled[['UserId', 'AchievementGroup']], 'left', 'UserId')\n",
        "answer_integrated['AchievementGroup'].value_counts()"
      ],
      "metadata": {
        "colab": {
          "base_uri": "https://localhost:8080/"
        },
        "id": "JagsDVTXpd9h",
        "outputId": "511e6938-880f-4604-ed0e-b8a068592a12"
      },
      "execution_count": 17,
      "outputs": [
        {
          "output_type": "execute_result",
          "data": {
            "text/plain": [
              "1.0    639208\n",
              "0.0    638938\n",
              "Name: AchievementGroup, dtype: int64"
            ]
          },
          "metadata": {},
          "execution_count": 17
        }
      ]
    },
    {
      "cell_type": "code",
      "source": [
        "# Make two confidence columns for each achievement group\n",
        "answer_integrated[['UpperGroupConfidence', 'LowerGroupConfidence']] = np.NaN\n",
        "answer_integrated['UpperGroupConfidence'] = answer_integrated[answer_integrated['AchievementGroup'] == 0]['Confidence']\n",
        "answer_integrated['LowerGroupConfidence'] = answer_integrated[answer_integrated['AchievementGroup'] == 1]['Confidence']\n",
        "answer_integrated.describe()"
      ],
      "metadata": {
        "id": "R4DobzqzpqHp"
      },
      "execution_count": null,
      "outputs": []
    },
    {
      "cell_type": "markdown",
      "source": [
        "# Calculate feature values to measure question quality, and make up train data"
      ],
      "metadata": {
        "id": "CnU1L7M2ACjP"
      }
    },
    {
      "cell_type": "code",
      "source": [
        "# Group the answer data by QuestionId\n",
        "answer_integrated_question_group = answer_integrated.groupby('QuestionId')"
      ],
      "metadata": {
        "id": "wuB4SYTmATnk"
      },
      "execution_count": null,
      "outputs": []
    },
    {
      "cell_type": "code",
      "source": [
        "# Calculate for feature values for each question\n",
        "train_data = pd.DataFrame(columns=['IncorrectRate', 'AnswerVariance', 'UpperGroupConfidence', 'LowerGroupConfidence'])\n",
        "train_data.index.name = 'QuestionId'\n",
        "train_data['AnswerVariance'] = answer_integrated_question_group.var()['AnswerValue']\n",
        "train_data['IncorrectRate'] = 1 - answer_integrated_question_group.mean()['IsCorrect']\n",
        "train_data[['UpperGroupConfidence', 'LowerGroupConfidence']] = answer_integrated_question_group.mean()[['UpperGroupConfidence', 'LowerGroupConfidence']]"
      ],
      "metadata": {
        "id": "LyHQtrQSATlL"
      },
      "execution_count": null,
      "outputs": []
    },
    {
      "cell_type": "code",
      "source": [
        "# Replace NaN confidence values\n",
        "print(train_data.isnull().sum())\n",
        "print(answer_integrated[answer_integrated['QuestionId']==1].info())\n",
        "\n",
        "# There is some questions that none of its answers have either of the confidence info.\n",
        "# -> Fill them up with mean confidence values of each group.\n",
        "train_data['LowerGroupConfidence'] = train_data['LowerGroupConfidence'].fillna(train_data['LowerGroupConfidence'].mean())\n",
        "train_data['UpperGroupConfidence'] = train_data['UpperGroupConfidence'].fillna(train_data['UpperGroupConfidence'].mean())\n",
        "train_data.isnull().sum()"
      ],
      "metadata": {
        "id": "zUIq-Vx4ATiJ"
      },
      "execution_count": null,
      "outputs": []
    },
    {
      "cell_type": "markdown",
      "source": [
        "# Reduce the feature dimension using PCA"
      ],
      "metadata": {
        "id": "tTukZNP7BgBy"
      }
    },
    {
      "cell_type": "code",
      "source": [
        "# Scale the feature values before PCA\n",
        "scaler = MinMaxScaler()\n",
        "train_data_scaled = scaler.fit_transform(train_data)\n",
        "train_data_scaled = pd.DataFrame(train_data_scaled, index=train_data.index, columns=train_data.columns)\n",
        "train_data_scaled.describe()"
      ],
      "metadata": {
        "id": "UffhPsgoATb1"
      },
      "execution_count": null,
      "outputs": []
    },
    {
      "cell_type": "code",
      "source": [
        "from sklearn.decomposition import PCA\n",
        "pca = PCA(n_components=3)\n",
        "train_data_PCA = pca.fit_transform(train_data_scaled)\n",
        "train_data_PCA = pd.DataFrame(data=train_data_PCA, columns=['PC1', 'PC2', 'PC3'])"
      ],
      "metadata": {
        "id": "sP7ToUBJu-rM"
      },
      "execution_count": null,
      "outputs": []
    },
    {
      "cell_type": "markdown",
      "source": [
        "# Define functions for validation"
      ],
      "metadata": {
        "id": "rD2wTC26vZsH"
      }
    },
    {
      "cell_type": "code",
      "source": [
        "# Function for calculating prediction score for each expert's decision\n",
        "def calcPredictionScore(question_compare_data, question_quality_rank):\n",
        "    question_quality_compare = []\n",
        "    for index in question_compare_data.index:\n",
        "        left_question = question_compare_data.at[index, 'left']\n",
        "        right_question = question_compare_data.at[index, 'right']\n",
        "        question_quality_compare.append(1 if question_quality_rank[left_question] < question_quality_rank[right_question] else 2)\n",
        "\n",
        "    prediction_scores = pd.Series([0.0, 0.0, 0.0, 0.0, 0.0])\n",
        "    for index in question_compare_data.index:\n",
        "        if question_quality_compare[index] == question_compare_data['T1_ALR'][index]:\n",
        "            prediction_scores[0] += 1\n",
        "        if question_quality_compare[index] == question_compare_data['T2_CL'][index]:\n",
        "            prediction_scores[1] += 1\n",
        "        if question_quality_compare[index] == question_compare_data['T3_GF'][index]:\n",
        "            prediction_scores[2] += 1\n",
        "        if question_quality_compare[index] == question_compare_data['T4_MQ'][index]:\n",
        "            prediction_scores[3] += 1\n",
        "        if question_quality_compare[index] == question_compare_data['T5_NS'][index]:\n",
        "            prediction_scores[4] += 1\n",
        "\n",
        "    for expert in range(5):\n",
        "        prediction_scores[expert] = prediction_scores[expert] / len(question_compare_data)\n",
        "    return prediction_scores"
      ],
      "metadata": {
        "id": "MTgN60m4vcdm"
      },
      "execution_count": null,
      "outputs": []
    },
    {
      "cell_type": "code",
      "source": [
        "import matplotlib.pyplot as plt\n",
        "\n",
        "# Function for finding the quality measure predcition that results in the best validation score\n",
        "def calcBestQuestionQualityPrediction(feature_data, question_compare_data, pc1_coef_list, pc2_coef_list, pc3_coef_list):\n",
        "    best_score = 0.0\n",
        "    best_question_quality = pd.DataFrame(columns=['QualityMeasure', 'Rank'])\n",
        "    best_coef_map = {\"pc1\" : 0.0, \"pc2\" : 0.0, \"pc3\" : 0.0}\n",
        "\n",
        "    for pc1_coef in pc1_coef_list:\n",
        "        for pc2_coef in pc2_coef_list:\n",
        "            for pc3_coef in pc3_coef_list:\n",
        "\n",
        "                question_quality = pd.DataFrame(columns=['QualityMeasure', 'Rank'])\n",
        "                question_quality.index.name = 'QuestionId'\n",
        "\n",
        "                # Calculate the quality measure value (i.e. the weighted sum of the features)\n",
        "                feature_data['PC1_weighted'] = feature_data['PC1'].apply(lambda value: pc1_coef*value)\n",
        "                feature_data['PC2_weighted'] = feature_data['PC2'].apply(lambda value: pc2_coef*value)\n",
        "                feature_data['PC3_weighted'] = feature_data['PC3'].apply(lambda value: pc3_coef*value)\n",
        "                question_quality['QualityMeasure'] = feature_data[['PC1_weighted', 'PC2_weighted', 'PC3_weighted']].apply(np.sum, axis='columns')\n",
        "\n",
        "                # Assign quality rank to each question based on the quality measure value\n",
        "                question_quality['Rank'] = question_quality['QualityMeasure'].rank(method='first', ascending=False)\n",
        "                question_quality.describe()\n",
        "\n",
        "                # Calculate prediction scores for the experts' decision\n",
        "                validation_scores = calcPredictionScore(question_compare_data, question_quality['Rank'])\n",
        "                mean_score = validation_scores.mean()\n",
        "\n",
        "                if mean_score > best_score:\n",
        "                    best_score = mean_score\n",
        "                    best_question_quality = question_quality\n",
        "                    best_coef_map['pc1'] = pc1_coef\n",
        "                    best_coef_map['pc2'] = pc2_coef\n",
        "                    best_coef_map['pc3'] = pc3_coef\n",
        "\n",
        "                #  Plot the mean score with current coefficient values\n",
        "                plt.figure(1)\n",
        "                plt.scatter(pc1_coef, mean_score)\n",
        "                plt.figure(2)\n",
        "                plt.scatter(pc2_coef, mean_score)\n",
        "                plt.figure(3)\n",
        "                plt.scatter(pc3_coef, mean_score)\n",
        "\n",
        "    print(\"Max Validation Mean Score: \", best_score)\n",
        "    print(\"Best Coefficient: \", best_coef_map)\n",
        "    return best_question_quality.astype(dtype={'QualityMeasure':'float64', 'Rank':'int64'})"
      ],
      "metadata": {
        "id": "7_7dwGdcvi_K"
      },
      "execution_count": null,
      "outputs": []
    },
    {
      "cell_type": "markdown",
      "source": [
        "# Validation (Training process)"
      ],
      "metadata": {
        "id": "ZQcgXrkvDLEn"
      }
    },
    {
      "cell_type": "code",
      "source": [
        "# Load validation data and submission template\n",
        "validation_data = pd.read_csv('project/data/test_data/quality_response_remapped_public.csv', na_values='?')\n",
        "template = pd.read_csv('project/submission/template.csv', na_values='?')"
      ],
      "metadata": {
        "id": "tac6jZE6DPiy"
      },
      "execution_count": null,
      "outputs": []
    },
    {
      "cell_type": "code",
      "source": [
        "# For plotting\n",
        "fig1 = plt.figure(1, figsize=(4,3), dpi = 200)\n",
        "plt.xlabel('PC1 Coef')\n",
        "plt.ylabel('Mean expert score')\n",
        "\n",
        "fig2 = plt.figure(2, figsize=(4,3), dpi = 200)\n",
        "plt.xlabel('PC2 Coef')\n",
        "plt.ylabel('Mean expert score')\n",
        "\n",
        "fig2 = plt.figure(3, figsize=(4,3), dpi = 200)\n",
        "plt.xlabel('PC3 Coef')\n",
        "plt.ylabel('Mean expert score')\n",
        "\n",
        "# Predict the question quality value and rank using validation with gridsearch\n",
        "question_quality_list = calcBestQuestionQualityPrediction(train_data_PCA, validation_data,\n",
        "                                                          [-0.30, -0.20, -0.10, 0.0, 0.10, 0.20, 0.30], # Coef for PC1\n",
        "                                                          [-0.30, -0.20, -0.10, 0.0, 0.10, 0.20, 0.30], # Coef for PC2\n",
        "                                                          [-0.30, -0.20, -0.10, 0.0, 0.10, 0.20, 0.30]) # Coef for PC3"
      ],
      "metadata": {
        "id": "sZ-ZvaWDyr7l"
      },
      "execution_count": null,
      "outputs": []
    },
    {
      "cell_type": "code",
      "source": [
        "# Write question ranks to csv file\n",
        "for question_id in template['QuestionId']:\n",
        "    template.at[question_id, 'ranking'] = question_quality_list.at[question_id, 'Rank']\n",
        "\n",
        "template.to_csv('project/submission/20182632.csv', index=False)"
      ],
      "metadata": {
        "id": "17782q2qKi_o"
      },
      "execution_count": null,
      "outputs": []
    },
    {
      "cell_type": "markdown",
      "source": [
        "# Get final test score"
      ],
      "metadata": {
        "id": "7UhGqYbnER_e"
      }
    },
    {
      "cell_type": "code",
      "source": [
        "# Load test data\n",
        "test_data = pd.read_csv('project/data/test_data/quality_response_remapped_private.csv', na_values='?')"
      ],
      "metadata": {
        "id": "4QQ6R3VzEmHB"
      },
      "execution_count": null,
      "outputs": []
    },
    {
      "cell_type": "code",
      "source": [
        "# Compute prediction score for the test data\n",
        "test_scores = calcPredictionScore(test_data, question_quality_list['Rank'])"
      ],
      "metadata": {
        "id": "QrKf0H2FEmBP"
      },
      "execution_count": null,
      "outputs": []
    },
    {
      "cell_type": "code",
      "source": [
        "# Show test score\n",
        "print('[Test Scores]\\n', test_scores)\n",
        "print(\"Max Test Score: \", test_scores.max())"
      ],
      "metadata": {
        "id": "oKJe7QiGke2g"
      },
      "execution_count": null,
      "outputs": []
    },
    {
      "cell_type": "markdown",
      "source": [
        "# Further analysis"
      ],
      "metadata": {
        "id": "rEHnnymR1qfM"
      }
    },
    {
      "cell_type": "code",
      "source": [
        "# Explained variance ratio of each principal components\n",
        "print('Explained variance ratio:', pca.explained_variance_ratio_)"
      ],
      "metadata": {
        "id": "NwT7aJVc17cn"
      },
      "execution_count": null,
      "outputs": []
    },
    {
      "cell_type": "code",
      "source": [
        "# Principal component direction of each original features\n",
        "components_dataframe = pd.DataFrame(pca.components_, columns=train_data_scaled.columns, index = ['PC1', 'PC2', 'PC3'])\n",
        "print(components_dataframe)"
      ],
      "metadata": {
        "id": "Lox_reYzgPJu"
      },
      "execution_count": null,
      "outputs": []
    }
  ]
}