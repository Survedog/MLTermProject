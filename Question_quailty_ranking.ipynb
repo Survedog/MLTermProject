{
  "nbformat": 4,
  "nbformat_minor": 0,
  "metadata": {
    "colab": {
      "provenance": []
    },
    "kernelspec": {
      "name": "python3",
      "display_name": "Python 3"
    },
    "language_info": {
      "name": "python"
    }
  },
  "cells": [
    {
      "cell_type": "markdown",
      "source": [
        "# Setup"
      ],
      "metadata": {
        "id": "BVvgPT5sBnR_"
      }
    },
    {
      "cell_type": "code",
      "source": [
        "# Get project folder\n",
        "!git clone https://github.com/Survedog/MLTermProject.git project"
      ],
      "metadata": {
        "colab": {
          "base_uri": "https://localhost:8080/"
        },
        "id": "GtV8-b7Z9Xgy",
        "outputId": "8194c8d6-e624-4a16-84d1-5ef18b421130"
      },
      "execution_count": null,
      "outputs": [
        {
          "output_type": "stream",
          "name": "stdout",
          "text": [
            "Cloning into 'project'...\n",
            "remote: Enumerating objects: 966, done.\u001b[K\n",
            "remote: Total 966 (delta 0), reused 0 (delta 0), pack-reused 966\u001b[K\n",
            "Receiving objects: 100% (966/966), 68.92 MiB | 12.42 MiB/s, done.\n",
            "Resolving deltas: 100% (1/1), done.\n",
            "Updating files: 100% (959/959), done.\n"
          ]
        }
      ]
    },
    {
      "cell_type": "code",
      "execution_count": null,
      "metadata": {
        "id": "qeO26wgo7cKl"
      },
      "outputs": [],
      "source": [
        "import pandas as pd\n",
        "import numpy as np\n",
        "pd.options.display.max_columns=100\n"
      ]
    },
    {
      "cell_type": "markdown",
      "source": [
        "# Load Data"
      ],
      "metadata": {
        "id": "y6ffvFTy_tDZ"
      }
    },
    {
      "cell_type": "code",
      "source": [
        "answer_correct_data = pd.read_csv('project/data/train_data/train_task_3_4.csv', na_values='?')\n",
        "answer_metadata = pd.read_csv('project/data/metadata/answer_metadata_task_3_4.csv', na_values='?')\n",
        "question_metadata = pd.read_csv('project/data/metadata/question_metadata_task_3_4.csv', na_values='?')\n",
        "student_metadata = pd.read_csv('project/data/metadata/student_metadata_task_3_4.csv', na_values='?')\n",
        "subject_metadata = pd.read_csv('project/data/metadata/subject_metadata.csv', na_values='?')"
      ],
      "metadata": {
        "id": "Dpsht8Lw_NJS"
      },
      "execution_count": null,
      "outputs": []
    },
    {
      "cell_type": "code",
      "source": [
        "answer_correct_data.head()"
      ],
      "metadata": {
        "id": "3XrmFJvV_T31"
      },
      "execution_count": null,
      "outputs": []
    },
    {
      "cell_type": "code",
      "source": [
        "answer_metadata.head()"
      ],
      "metadata": {
        "id": "YthYnsA2_T9o"
      },
      "execution_count": null,
      "outputs": []
    },
    {
      "cell_type": "code",
      "source": [
        "question_metadata.head()"
      ],
      "metadata": {
        "id": "_lcbnK0d_UCI"
      },
      "execution_count": null,
      "outputs": []
    },
    {
      "cell_type": "code",
      "source": [
        "student_metadata.head()"
      ],
      "metadata": {
        "id": "-0j5eg_V_UFn"
      },
      "execution_count": null,
      "outputs": []
    },
    {
      "cell_type": "code",
      "source": [
        "subject_metadata.head()"
      ],
      "metadata": {
        "id": "hmov4S5D_UIU"
      },
      "execution_count": null,
      "outputs": []
    },
    {
      "cell_type": "markdown",
      "source": [
        "# Calculate feature values to measure question quality"
      ],
      "metadata": {
        "id": "CnU1L7M2ACjP"
      }
    },
    {
      "cell_type": "code",
      "source": [
        "# Integrate and group information for each question \n",
        "answer_integrated = pd.merge(answer_correct_data, answer_metadata, 'inner', 'AnswerId')\n",
        "answer_integrated_group = answer_integrated.groupby('QuestionId')"
      ],
      "metadata": {
        "id": "wuB4SYTmATnk"
      },
      "execution_count": null,
      "outputs": []
    },
    {
      "cell_type": "code",
      "source": [
        "# Dataframe storing feature values\n",
        "train_data = pd.DataFrame(columns=['CorrectRate', 'MeanConfidence', 'AnswerVariance'])\n",
        "train_data.index.name = 'QuestionId'\n",
        "train_data[['CorrectRate', 'MeanConfidence']] = answer_integrated_group.mean()[['IsCorrect', 'Confidence']]\n",
        "train_data['AnswerVariance'] = answer_integrated_group.var()['AnswerValue']"
      ],
      "metadata": {
        "colab": {
          "base_uri": "https://localhost:8080/"
        },
        "id": "LyHQtrQSATlL",
        "outputId": "69ab2eb0-a7eb-423a-8f7f-ca7af543778d"
      },
      "execution_count": null,
      "outputs": [
        {
          "output_type": "stream",
          "name": "stderr",
          "text": [
            "<ipython-input-21-73b46ea1f961>:4: FutureWarning: The default value of numeric_only in DataFrameGroupBy.mean is deprecated. In a future version, numeric_only will default to False. Either specify numeric_only or select only columns which should be valid for the function.\n",
            "  train_data[['CorrectRate', 'MeanConfidence']] = answer_integrated_group.mean()[['IsCorrect', 'Confidence']]\n",
            "<ipython-input-21-73b46ea1f961>:5: FutureWarning: The default value of numeric_only in DataFrameGroupBy.var is deprecated. In a future version, numeric_only will default to False. Either specify numeric_only or select only columns which should be valid for the function.\n",
            "  train_data['AnswerVariance'] = answer_integrated_group.var()['AnswerValue']\n"
          ]
        }
      ]
    },
    {
      "cell_type": "code",
      "source": [
        "# Replace NaN confidence values\n",
        "train_data.isnull().sum()\n",
        "print(answer_integrated[answer_integrated['QuestionId']==1].info())\n",
        "\n",
        "# There is some questions that none of its answers have confidence info.\n",
        "# -> Will set mean confidence as their confidence.\n",
        "train_data['MeanConfidence'] = train_data['MeanConfidence'].fillna(train_data['MeanConfidence'].mean())\n",
        "train_data.isnull().sum()"
      ],
      "metadata": {
        "colab": {
          "base_uri": "https://localhost:8080/"
        },
        "id": "zUIq-Vx4ATiJ",
        "outputId": "95cf00e6-bac9-48a5-fa41-53343620c6da"
      },
      "execution_count": null,
      "outputs": [
        {
          "output_type": "stream",
          "name": "stdout",
          "text": [
            "<class 'pandas.core.frame.DataFrame'>\n",
            "Int64Index: 14 entries, 6452 to 1291796\n",
            "Data columns (total 11 columns):\n",
            " #   Column          Non-Null Count  Dtype  \n",
            "---  ------          --------------  -----  \n",
            " 0   QuestionId      14 non-null     int64  \n",
            " 1   UserId          14 non-null     int64  \n",
            " 2   AnswerId        14 non-null     int64  \n",
            " 3   IsCorrect       14 non-null     int64  \n",
            " 4   CorrectAnswer   14 non-null     int64  \n",
            " 5   AnswerValue     14 non-null     int64  \n",
            " 6   DateAnswered    14 non-null     object \n",
            " 7   Confidence      0 non-null      float64\n",
            " 8   GroupId         14 non-null     int64  \n",
            " 9   QuizId          14 non-null     int64  \n",
            " 10  SchemeOfWorkId  1 non-null      float64\n",
            "dtypes: float64(2), int64(8), object(1)\n",
            "memory usage: 1.3+ KB\n",
            "None\n"
          ]
        },
        {
          "output_type": "execute_result",
          "data": {
            "text/plain": [
              "CorrectRate       0\n",
              "MeanConfidence    0\n",
              "AnswerVariance    0\n",
              "dtype: int64"
            ]
          },
          "metadata": {},
          "execution_count": 22
        }
      ]
    },
    {
      "cell_type": "markdown",
      "source": [
        "# Preprocess feature values"
      ],
      "metadata": {
        "id": "tTukZNP7BgBy"
      }
    },
    {
      "cell_type": "code",
      "source": [
        "from sklearn.preprocessing import MinMaxScaler\n",
        "scaler = MinMaxScaler()\n",
        "train_data_scaled = scaler.fit(train_data).transform(train_data)\n",
        "train_data_scaled = pd.DataFrame(train_data_scaled, index=train_data.index, columns=train_data.columns)"
      ],
      "metadata": {
        "id": "UffhPsgoATb1"
      },
      "execution_count": null,
      "outputs": []
    },
    {
      "cell_type": "markdown",
      "source": [
        "# Measure question quality"
      ],
      "metadata": {
        "id": "QvIQAe5TB8dK"
      }
    },
    {
      "cell_type": "code",
      "source": [
        "question_quality = pd.DataFrame(columns=['QualityMeasure'])\n",
        "question_quality.index.name = 'QuestionId'"
      ],
      "metadata": {
        "id": "XEqXi9CyATUG"
      },
      "execution_count": null,
      "outputs": []
    },
    {
      "cell_type": "code",
      "source": [
        "# Get quality measure value\n",
        "for index in train_data_scaled.index:\n",
        "    question_quality.loc[index] = \\\n",
        "        (1 - train_data_scaled.at[index, 'CorrectRate']) \\\n",
        "        * train_data_scaled.at[index, 'AnswerVariance'] \\\n",
        "        - train_data_scaled.at[index, 'MeanConfidence']"
      ],
      "metadata": {
        "id": "qVmMvymYBDLj"
      },
      "execution_count": null,
      "outputs": []
    },
    {
      "cell_type": "markdown",
      "source": [
        "# Rank each question's quality"
      ],
      "metadata": {
        "id": "4mG9dZXjCRCh"
      }
    },
    {
      "cell_type": "code",
      "source": [
        "question_quality['Rank'] = question_quality['QualityMeasure'].rank(method='first', ascending=False)\n",
        "question_quality = question_quality.astype(dtype={'QualityMeasure':'float64', 'Rank':'int64'})"
      ],
      "metadata": {
        "id": "0RZmVfZqBDDk"
      },
      "execution_count": null,
      "outputs": []
    },
    {
      "cell_type": "code",
      "source": [
        "# Check if ranking worked correctly\n",
        "question_quality.describe()"
      ],
      "metadata": {
        "colab": {
          "base_uri": "https://localhost:8080/",
          "height": 300
        },
        "id": "3-CUPvQvBC8k",
        "outputId": "83b69389-21f3-4caf-c598-f8514e4eda9d"
      },
      "execution_count": null,
      "outputs": [
        {
          "output_type": "execute_result",
          "data": {
            "text/plain": [
              "       QualityMeasure        Rank\n",
              "count      948.000000  948.000000\n",
              "mean        -0.460858  474.500000\n",
              "std          0.192965  273.808327\n",
              "min         -0.956790    1.000000\n",
              "25%         -0.613778  237.750000\n",
              "50%         -0.467707  474.500000\n",
              "75%         -0.310210  711.250000\n",
              "max          0.365556  948.000000"
            ],
            "text/html": [
              "\n",
              "  <div id=\"df-c338d56e-4816-436e-ac42-9f317b36b491\">\n",
              "    <div class=\"colab-df-container\">\n",
              "      <div>\n",
              "<style scoped>\n",
              "    .dataframe tbody tr th:only-of-type {\n",
              "        vertical-align: middle;\n",
              "    }\n",
              "\n",
              "    .dataframe tbody tr th {\n",
              "        vertical-align: top;\n",
              "    }\n",
              "\n",
              "    .dataframe thead th {\n",
              "        text-align: right;\n",
              "    }\n",
              "</style>\n",
              "<table border=\"1\" class=\"dataframe\">\n",
              "  <thead>\n",
              "    <tr style=\"text-align: right;\">\n",
              "      <th></th>\n",
              "      <th>QualityMeasure</th>\n",
              "      <th>Rank</th>\n",
              "    </tr>\n",
              "  </thead>\n",
              "  <tbody>\n",
              "    <tr>\n",
              "      <th>count</th>\n",
              "      <td>948.000000</td>\n",
              "      <td>948.000000</td>\n",
              "    </tr>\n",
              "    <tr>\n",
              "      <th>mean</th>\n",
              "      <td>-0.460858</td>\n",
              "      <td>474.500000</td>\n",
              "    </tr>\n",
              "    <tr>\n",
              "      <th>std</th>\n",
              "      <td>0.192965</td>\n",
              "      <td>273.808327</td>\n",
              "    </tr>\n",
              "    <tr>\n",
              "      <th>min</th>\n",
              "      <td>-0.956790</td>\n",
              "      <td>1.000000</td>\n",
              "    </tr>\n",
              "    <tr>\n",
              "      <th>25%</th>\n",
              "      <td>-0.613778</td>\n",
              "      <td>237.750000</td>\n",
              "    </tr>\n",
              "    <tr>\n",
              "      <th>50%</th>\n",
              "      <td>-0.467707</td>\n",
              "      <td>474.500000</td>\n",
              "    </tr>\n",
              "    <tr>\n",
              "      <th>75%</th>\n",
              "      <td>-0.310210</td>\n",
              "      <td>711.250000</td>\n",
              "    </tr>\n",
              "    <tr>\n",
              "      <th>max</th>\n",
              "      <td>0.365556</td>\n",
              "      <td>948.000000</td>\n",
              "    </tr>\n",
              "  </tbody>\n",
              "</table>\n",
              "</div>\n",
              "      <button class=\"colab-df-convert\" onclick=\"convertToInteractive('df-c338d56e-4816-436e-ac42-9f317b36b491')\"\n",
              "              title=\"Convert this dataframe to an interactive table.\"\n",
              "              style=\"display:none;\">\n",
              "        \n",
              "  <svg xmlns=\"http://www.w3.org/2000/svg\" height=\"24px\"viewBox=\"0 0 24 24\"\n",
              "       width=\"24px\">\n",
              "    <path d=\"M0 0h24v24H0V0z\" fill=\"none\"/>\n",
              "    <path d=\"M18.56 5.44l.94 2.06.94-2.06 2.06-.94-2.06-.94-.94-2.06-.94 2.06-2.06.94zm-11 1L8.5 8.5l.94-2.06 2.06-.94-2.06-.94L8.5 2.5l-.94 2.06-2.06.94zm10 10l.94 2.06.94-2.06 2.06-.94-2.06-.94-.94-2.06-.94 2.06-2.06.94z\"/><path d=\"M17.41 7.96l-1.37-1.37c-.4-.4-.92-.59-1.43-.59-.52 0-1.04.2-1.43.59L10.3 9.45l-7.72 7.72c-.78.78-.78 2.05 0 2.83L4 21.41c.39.39.9.59 1.41.59.51 0 1.02-.2 1.41-.59l7.78-7.78 2.81-2.81c.8-.78.8-2.07 0-2.86zM5.41 20L4 18.59l7.72-7.72 1.47 1.35L5.41 20z\"/>\n",
              "  </svg>\n",
              "      </button>\n",
              "      \n",
              "  <style>\n",
              "    .colab-df-container {\n",
              "      display:flex;\n",
              "      flex-wrap:wrap;\n",
              "      gap: 12px;\n",
              "    }\n",
              "\n",
              "    .colab-df-convert {\n",
              "      background-color: #E8F0FE;\n",
              "      border: none;\n",
              "      border-radius: 50%;\n",
              "      cursor: pointer;\n",
              "      display: none;\n",
              "      fill: #1967D2;\n",
              "      height: 32px;\n",
              "      padding: 0 0 0 0;\n",
              "      width: 32px;\n",
              "    }\n",
              "\n",
              "    .colab-df-convert:hover {\n",
              "      background-color: #E2EBFA;\n",
              "      box-shadow: 0px 1px 2px rgba(60, 64, 67, 0.3), 0px 1px 3px 1px rgba(60, 64, 67, 0.15);\n",
              "      fill: #174EA6;\n",
              "    }\n",
              "\n",
              "    [theme=dark] .colab-df-convert {\n",
              "      background-color: #3B4455;\n",
              "      fill: #D2E3FC;\n",
              "    }\n",
              "\n",
              "    [theme=dark] .colab-df-convert:hover {\n",
              "      background-color: #434B5C;\n",
              "      box-shadow: 0px 1px 3px 1px rgba(0, 0, 0, 0.15);\n",
              "      filter: drop-shadow(0px 1px 2px rgba(0, 0, 0, 0.3));\n",
              "      fill: #FFFFFF;\n",
              "    }\n",
              "  </style>\n",
              "\n",
              "      <script>\n",
              "        const buttonEl =\n",
              "          document.querySelector('#df-c338d56e-4816-436e-ac42-9f317b36b491 button.colab-df-convert');\n",
              "        buttonEl.style.display =\n",
              "          google.colab.kernel.accessAllowed ? 'block' : 'none';\n",
              "\n",
              "        async function convertToInteractive(key) {\n",
              "          const element = document.querySelector('#df-c338d56e-4816-436e-ac42-9f317b36b491');\n",
              "          const dataTable =\n",
              "            await google.colab.kernel.invokeFunction('convertToInteractive',\n",
              "                                                     [key], {});\n",
              "          if (!dataTable) return;\n",
              "\n",
              "          const docLinkHtml = 'Like what you see? Visit the ' +\n",
              "            '<a target=\"_blank\" href=https://colab.research.google.com/notebooks/data_table.ipynb>data table notebook</a>'\n",
              "            + ' to learn more about interactive tables.';\n",
              "          element.innerHTML = '';\n",
              "          dataTable['output_type'] = 'display_data';\n",
              "          await google.colab.output.renderOutput(dataTable, element);\n",
              "          const docLink = document.createElement('div');\n",
              "          docLink.innerHTML = docLinkHtml;\n",
              "          element.appendChild(docLink);\n",
              "        }\n",
              "      </script>\n",
              "    </div>\n",
              "  </div>\n",
              "  "
            ]
          },
          "metadata": {},
          "execution_count": 27
        }
      ]
    },
    {
      "cell_type": "markdown",
      "source": [
        "# Validation"
      ],
      "metadata": {
        "id": "ZQcgXrkvDLEn"
      }
    },
    {
      "cell_type": "code",
      "source": [
        "# Load validation data\n",
        "validation_data = pd.read_csv('project/data/test_data/quality_response_remapped_public.csv', na_values='?')"
      ],
      "metadata": {
        "id": "tac6jZE6DPiy"
      },
      "execution_count": null,
      "outputs": []
    },
    {
      "cell_type": "code",
      "source": [
        "# Compare each question pair in validation data set\n",
        "question_quality_compare = []\n",
        "for index in validation_data.index:\n",
        "    left_question = validation_data.at[index, 'left']\n",
        "    right_question = validation_data.at[index, 'right']\n",
        "    question_quality_compare.append(1 if question_quality['Rank'][left_question] < question_quality['Rank'][right_question] else 2)"
      ],
      "metadata": {
        "id": "q2pdWv5GDd5d"
      },
      "execution_count": null,
      "outputs": []
    },
    {
      "cell_type": "code",
      "source": [
        "# Compare the result with each expert's decision and get score for each\n",
        "validation_scores = pd.Series([0.0, 0.0, 0.0, 0.0, 0.0])\n",
        "for index in validation_data.index:\n",
        "    if question_quality_compare[index] == validation_data['T1_ALR'][index]:\n",
        "        validation_scores[0] += 1\n",
        "    if question_quality_compare[index] == validation_data['T2_CL'][index]:\n",
        "        validation_scores[1] += 1\n",
        "    if question_quality_compare[index] == validation_data['T3_GF'][index]:\n",
        "        validation_scores[2] += 1\n",
        "    if question_quality_compare[index] == validation_data['T4_MQ'][index]:\n",
        "        validation_scores[3] += 1\n",
        "    if question_quality_compare[index] == validation_data['T5_NS'][index]:\n",
        "        validation_scores[4] += 1\n",
        "\n",
        "for expert in range(5):\n",
        "    validation_scores[expert] = validation_scores[expert] / len(validation_data)"
      ],
      "metadata": {
        "id": "MyneT1VtDdyj"
      },
      "execution_count": null,
      "outputs": []
    },
    {
      "cell_type": "code",
      "source": [
        "# Show validation score\n",
        "print(validation_scores)\n",
        "print(\"Max Validation Score: {0}\".format(validation_scores.max()))"
      ],
      "metadata": {
        "colab": {
          "base_uri": "https://localhost:8080/"
        },
        "id": "qZlp9WEzDdo3",
        "outputId": "1d01ddac-2366-4102-94dc-234cf6681c01"
      },
      "execution_count": null,
      "outputs": [
        {
          "output_type": "stream",
          "name": "stdout",
          "text": [
            "0    0.68\n",
            "1    0.72\n",
            "2    0.80\n",
            "3    0.68\n",
            "4    0.60\n",
            "dtype: float64\n",
            "Max Validation Score: 0.8\n"
          ]
        }
      ]
    },
    {
      "cell_type": "markdown",
      "source": [
        "# Get final test score"
      ],
      "metadata": {
        "id": "7UhGqYbnER_e"
      }
    },
    {
      "cell_type": "code",
      "source": [
        "# Load test data\n",
        "test_data = pd.read_csv('project/data/test_data/quality_response_remapped_private.csv', na_values='?')"
      ],
      "metadata": {
        "id": "4QQ6R3VzEmHB"
      },
      "execution_count": 33,
      "outputs": []
    },
    {
      "cell_type": "code",
      "source": [
        "# Compare each question pair in test data set\n",
        "question_quality_compare = []\n",
        "for index in test_data.index:\n",
        "    left_question = test_data.at[index, 'left']\n",
        "    right_question = test_data.at[index, 'right']\n",
        "    question_quality_compare.append(1 if question_quality['Rank'][left_question] < question_quality['Rank'][right_question] else 2)"
      ],
      "metadata": {
        "id": "QrKf0H2FEmBP"
      },
      "execution_count": 34,
      "outputs": []
    },
    {
      "cell_type": "code",
      "source": [
        "# Compare the result with each expert's decision and get score for each\n",
        "test_scores = pd.Series([0.0, 0.0, 0.0, 0.0, 0.0])\n",
        "for index in test_data.index:\n",
        "    if question_quality_compare[index] == test_data['T1_ALR'][index]:\n",
        "        test_scores[0] += 1\n",
        "    if question_quality_compare[index] == test_data['T2_CL'][index]:\n",
        "        test_scores[1] += 1\n",
        "    if question_quality_compare[index] == test_data['T3_GF'][index]:\n",
        "        test_scores[2] += 1\n",
        "    if question_quality_compare[index] == test_data['T4_MQ'][index]:\n",
        "        test_scores[3] += 1\n",
        "    if question_quality_compare[index] == test_data['T5_NS'][index]:\n",
        "        test_scores[4] += 1\n",
        "\n",
        "for expert in range(5):\n",
        "    test_scores[expert] = test_scores[expert] / len(test_data)"
      ],
      "metadata": {
        "id": "dnUNVM3rEl0W"
      },
      "execution_count": 35,
      "outputs": []
    },
    {
      "cell_type": "code",
      "source": [
        "# Show validation score\n",
        "print(test_scores)\n",
        "print(\"Max Test Score: {0}\".format(test_scores.max()))"
      ],
      "metadata": {
        "id": "oKJe7QiGke2g",
        "colab": {
          "base_uri": "https://localhost:8080/"
        },
        "outputId": "d6198108-9ab1-4756-8508-50b47d24b0ca"
      },
      "execution_count": 36,
      "outputs": [
        {
          "output_type": "stream",
          "name": "stdout",
          "text": [
            "0    0.72\n",
            "1    0.60\n",
            "2    0.60\n",
            "3    0.60\n",
            "4    0.80\n",
            "dtype: float64\n",
            "Max Test Score: 0.8\n"
          ]
        }
      ]
    }
  ]
}